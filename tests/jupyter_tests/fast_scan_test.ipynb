{
 "cells": [
  {
   "cell_type": "code",
   "execution_count": null,
   "id": "58fe3420-313d-447a-bb09-7f9b85703169",
   "metadata": {},
   "outputs": [],
   "source": [
    "import os \n",
    "os.chdir(\"/workspaces/p99-bluesky/tests/\")\n",
    "\n",
    "import asyncio\n",
    "import subprocess, os\n",
    "from bluesky.run_engine import RunEngine\n",
    "from ophyd_async.core import DeviceCollector\n",
    "from ophyd_async.epics.signal import epics_signal_r, epics_signal_rw\n",
    "from ophyd_async.core.signal import observe_value, wait_for_value\n",
    "from p99_bluesky.devices.p99.sample_stage import (\n",
    "    FilterMotor,\n",
    "    SampleAngleStage,\n",
    "    p99StageSelections,\n",
    ")\n",
    "from p99_bluesky.plans.fast_scan import fast_scan_1d, fast_scan_grid\n",
    "from p99_bluesky.plans.stxm import stxm_fast,get_velocity_and_step_size\n",
    "from soft_motor import SoftThreeAxisStage\n",
    "from bluesky.run_engine import RunEngine\n",
    "from bluesky.callbacks.best_effort import BestEffortCallback\n",
    "from bluesky.plans import count, scan \n",
    "from ophyd.sim import noisy_det as det\n",
    "bec = BestEffortCallback()\n",
    "RE = RunEngine({})\n",
    "from databroker import Broker\n",
    "db = Broker.named('temp')\n",
    "RE.subscribe(db.insert)\n",
    "with DeviceCollector(mock=False):\n",
    "    mock_sampleAngleStage = SampleAngleStage(\n",
    "        \"p99-MO-TABLE-01:\", name=\"mock_sampleAngleStage\"\n",
    "    )\n",
    "    mock_filter_wheel = FilterMotor(\n",
    "        \"p99-MO-STAGE-02:MP:SELECT\", name=\"mock_filter_wheel\"\n",
    "    )\n",
    "    xyz_motor = SoftThreeAxisStage(\"p99-MO-STAGE-02:\", name=\"xyz_motor\")"
   ]
  },
  {
   "cell_type": "code",
   "execution_count": null,
   "id": "d437b274-146d-4c05-a118-e3e1dbb9a904",
   "metadata": {},
   "outputs": [],
   "source": [
    "uid, = RE(stxm_fast(\n",
    "    det=det,\n",
    "    count_time = 0.5,\n",
    "    scan_motor = xyz_motor.x,\n",
    "    scan_start = -2.2,\n",
    "    scan_end   = 2.2,\n",
    "    step_motor = xyz_motor.y,\n",
    "    step_start = -2.2,\n",
    "    step_end   = 2.2,\n",
    "    plan_time  = 50,\n",
    "),bec)"
   ]
  },
  {
   "cell_type": "code",
   "execution_count": null,
   "id": "0e37db82-9b3e-4f9c-9999-14b5702343a9",
   "metadata": {},
   "outputs": [],
   "source": [
    "header = db[-1]\n",
    "data = header.table()\n",
    "plt.tricontourf(data[\"xyz_motor-y\"],data[\"xyz_motor-x\"],data['noisy_det'])"
   ]
  },
  {
   "cell_type": "code",
   "execution_count": null,
   "id": "e1bbed8a-11e5-4bd5-a267-e28d6e22134a",
   "metadata": {},
   "outputs": [],
   "source": [
    "import matplotlib.pyplot as plt"
   ]
  },
  {
   "cell_type": "code",
   "execution_count": null,
   "id": "dcda2ee8-dece-4dcc-9314-2590c9646e1e",
   "metadata": {},
   "outputs": [],
   "source": []
  },
  {
   "cell_type": "code",
   "execution_count": null,
   "id": "281491c4-3b72-4627-bd14-0293bce7ae2d",
   "metadata": {},
   "outputs": [],
   "source": [
    "k = RE(get_velocity_and_step_size(xyz_motor.x, 20, 0.1))"
   ]
  },
  {
   "cell_type": "code",
   "execution_count": null,
   "id": "92a3fb8e-0385-4f75-aa9a-795662ed423e",
   "metadata": {},
   "outputs": [],
   "source": [
    "RE.abort() "
   ]
  },
  {
   "cell_type": "code",
   "execution_count": null,
   "id": "d27ca3b9-a980-47a8-ba0c-118adcd55234",
   "metadata": {},
   "outputs": [],
   "source": [
    "RE(fast_scan_grid([det],xyz_motor.x,-2,2,3, xyz_motor.y,-0,-10,1),bec)"
   ]
  },
  {
   "cell_type": "code",
   "execution_count": null,
   "id": "f338149e-cdfd-4e04-b8a4-635fcabee41d",
   "metadata": {},
   "outputs": [],
   "source": [
    "RE(fast_scan_grid([det],xyz_motor.x,0,5,10, xyz_motor.y,-0,-10,5,snake_axes = True),bec)"
   ]
  },
  {
   "cell_type": "code",
   "execution_count": null,
   "id": "35d1be9a-07d0-4b55-9b12-95cf4c9c0608",
   "metadata": {},
   "outputs": [],
   "source": [
    "RE(fast_scan([det],xyz_motor.x,-8.888,18880,5\n",
    "            ))"
   ]
  },
  {
   "cell_type": "code",
   "execution_count": null,
   "id": "6c280df5-7726-44a8-8cc1-28d13bc7be1e",
   "metadata": {},
   "outputs": [],
   "source": [
    "import bluesky.plan_patterns as bpp\n",
    "import bluesky.plan_stubs as bps\n",
    "from bluesky.simulators import check_limits\n",
    "from ophyd_async.epics.motion import Motor\n",
    "from ophyd_async.protocols import AsyncReadable\n",
    "import asyncio\n",
    "from typing import Optional\n"
   ]
  },
  {
   "cell_type": "code",
   "execution_count": null,
   "id": "39faa52a-36c7-483d-afd7-1848b7ea645b",
   "metadata": {},
   "outputs": [],
   "source": [
    "def plan(motor):\n",
    "    y = yield from bps.read(motor.x)\n",
    "    print(y)"
   ]
  },
  {
   "cell_type": "code",
   "execution_count": null,
   "id": "d303fd1d-b944-4ff9-a55b-22f6fb1c1aa0",
   "metadata": {},
   "outputs": [],
   "source": [
    "RE(bps.abs_set(xyz_motor.y.velocity,100))\n",
    "   "
   ]
  },
  {
   "cell_type": "code",
   "execution_count": null,
   "id": "dad0c338-9440-4b6d-a196-cbf31f8210aa",
   "metadata": {},
   "outputs": [],
   "source": [
    "RE(bps.abs_set(xyz_motor.x.velocity,100))"
   ]
  },
  {
   "cell_type": "code",
   "execution_count": null,
   "id": "b30f312c-83ab-4381-833e-7c3d2d8c7c2f",
   "metadata": {},
   "outputs": [],
   "source": [
    "def set_and_count(det,motor,end):\n",
    "    yield from bps.abs_set(xyz_motor.x,end) \n",
    "    current_value = yield from bps.rd(motor.user_readback)\n",
    "    while abs(end - current_value) > 1e-7:\n",
    "        yield from count(det+[motor], num=1)\n",
    "        current_value = yield from bps.rd(motor.user_readback)"
   ]
  },
  {
   "cell_type": "code",
   "execution_count": null,
   "id": "b4f28923-739f-426d-9aea-3dc6b137a06e",
   "metadata": {},
   "outputs": [],
   "source": [
    "from ophyd.sim import det, det1, motor1\n",
    "from bluesky.plans import count\n",
    "from bluesky.preprocessors import monitor_during_wrapper\n",
    "\n",
    "# Record any updates from det1 while 'counting' det 5 times.\n",
    "RE(set_and_count([det],xyz_motor.x,7),bec)"
   ]
  },
  {
   "cell_type": "code",
   "execution_count": null,
   "id": "3ba8b1c6-4799-4ae0-b234-1dbb6ed92529",
   "metadata": {},
   "outputs": [],
   "source": [
    "a = [1,2,3,4]\n",
    "b = 5"
   ]
  },
  {
   "cell_type": "code",
   "execution_count": null,
   "id": "b4571fbd-b939-4515-83b9-79ccba65856a",
   "metadata": {},
   "outputs": [],
   "source": [
    "c = a,b"
   ]
  },
  {
   "cell_type": "code",
   "execution_count": null,
   "id": "5c6d700c-4ffb-4956-bc15-ce26b33e3e5c",
   "metadata": {},
   "outputs": [],
   "source": [
    "c"
   ]
  },
  {
   "cell_type": "code",
   "execution_count": null,
   "id": "79058ee5-65ec-488c-abaf-e32325a52614",
   "metadata": {},
   "outputs": [],
   "source": [
    "from bluesky.plans import grid_scan\n",
    "from ophyd.sim import det5, jittery_motor1, jittery_motor2\n",
    "from bluesky.callbacks.mpl_plotting import LiveScatter\n",
    "\n",
    "# The 'jittery' example motors won't go exactly where they are told to go.\n",
    "\n",
    "RE(grid_scan([det5],\n",
    "                      jittery_motor1, -3, 3, 6,\n",
    "                      jittery_motor2, -5, 5, 10, False),\n",
    "   LiveScatter('jittery_motor1', 'jittery_motor2', 'det5',\n",
    "            xlim=(-3, 3), ylim=(-5, 5)))"
   ]
  },
  {
   "cell_type": "code",
   "execution_count": null,
   "id": "ae3af411-6e83-4485-97e3-af193cca6e9b",
   "metadata": {},
   "outputs": [],
   "source": [
    "def test(count_time: float,\n",
    "    scan_range: float,\n",
    "    step_range: float,\n",
    "    plan_time :float,):\n",
    "    num_data_point = plan_time/count_time\n",
    "    step_size = 1.0/(num_data_point/(scan_range*step_range))**0.5\n",
    "    ideal_velocity = step_size/count_time\n",
    "    #smallest_possible_step_size = scan_motor.max_velocity\n",
    "\n",
    "    print(ideal_velocity,step_size)"
   ]
  },
  {
   "cell_type": "code",
   "execution_count": null,
   "id": "415e3926-ef2c-45c3-a529-10f8380b289f",
   "metadata": {},
   "outputs": [],
   "source": [
    "test(0.1,10,2,100)"
   ]
  },
  {
   "cell_type": "code",
   "execution_count": null,
   "id": "3ebaef8d-ea75-459c-8f93-4b7d54e6c487",
   "metadata": {},
   "outputs": [],
   "source": [
    "(100/0.1/20)**0.5"
   ]
  },
  {
   "cell_type": "code",
   "execution_count": null,
   "id": "b5247ccd-eab0-4af5-9a16-b03d3382cf07",
   "metadata": {},
   "outputs": [],
   "source": [
    "(7.07*2) *(7.07*10)\n"
   ]
  },
  {
   "cell_type": "code",
   "execution_count": null,
   "id": "4551503d-084d-41e6-a096-bdd7db2934d8",
   "metadata": {},
   "outputs": [],
   "source": []
  }
 ],
 "metadata": {
  "kernelspec": {
   "display_name": "Python 3 (ipykernel)",
   "language": "python",
   "name": "python3"
  },
  "language_info": {
   "codemirror_mode": {
    "name": "ipython",
    "version": 3
   },
   "file_extension": ".py",
   "mimetype": "text/x-python",
   "name": "python",
   "nbconvert_exporter": "python",
   "pygments_lexer": "ipython3",
   "version": "3.11.9"
  }
 },
 "nbformat": 4,
 "nbformat_minor": 5
}
