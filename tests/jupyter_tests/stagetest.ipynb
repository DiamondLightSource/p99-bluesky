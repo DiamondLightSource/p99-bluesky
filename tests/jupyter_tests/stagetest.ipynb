{
 "cells": [
  {
   "cell_type": "code",
   "execution_count": 1,
   "id": "80438dca-48cb-4cad-ac8c-014295bc27de",
   "metadata": {},
   "outputs": [],
   "source": [
    "from ophyd_async.core import DeviceCollector \n",
    "from ophyd_async.epics.motion.motor import Motor\n",
    "from ophyd_async.core import Device\n",
    "from ophyd_async.epics.signal import epics_signal_rw\n",
    "from bluesky.callbacks.best_effort import BestEffortCallback\n",
    "from bluesky import RunEngine\n",
    "from bluesky.plans import count, scan \n",
    "from ophyd.sim import det1\n",
    "from bluesky import utils\n",
    "from bluesky.utils import Msg\n",
    "from dodal.beamlines.beamline_utils import set_directory_provider\n",
    "from ophyd_async.core._providers import StaticDirectoryProvider\n",
    "from ophyd_async.epics.signal import (\n",
    "    epics_signal_r,\n",
    "    epics_signal_rw,\n",
    "    epics_signal_x,\n",
    "    epics_signal_w\n",
    ")\n",
    "\n",
    "import asyncio\n",
    "from epics import caget, caput,cainfo\n",
    "from enum import Enum\n",
    "loop = asyncio.get_event_loop()\n",
    "bec = BestEffortCallback()\n",
    "RE = RunEngine({})"
   ]
  },
  {
   "cell_type": "code",
   "execution_count": null,
   "id": "70f8f818-4c6a-4c34-9359-92dc89e82797",
   "metadata": {},
   "outputs": [],
   "source": [
    "import os \n",
    "os.chdir(\"/scratch/wvx67826/p99Bluesky/src/\")"
   ]
  },
  {
   "cell_type": "code",
   "execution_count": null,
   "id": "ae7eac0a-426d-415e-bdac-5969031daa29",
   "metadata": {},
   "outputs": [],
   "source": [
    "from p99Bluesky.devices.p99.sample_stage import SampleAngleStage\n",
    "from p99Bluesky.devices.stages import ThreeAxisStage\n",
    "from p99Bluesky.devices.epics.setReadOnlyMotor import SetReadOnlyMotor\n"
   ]
  },
  {
   "cell_type": "code",
   "execution_count": null,
   "id": "ebc11af5-e80d-4ca9-bf0e-5df624ebad4e",
   "metadata": {},
   "outputs": [],
   "source": [
    "with DeviceCollector():\n",
    "    sample_angle_stage = SampleAngleStage('BL99P-MO-STAGE-01:',name = \"sample_angle_stage\")\n",
    "#result = asyncio.create_task(x.connect())"
   ]
  },
  {
   "cell_type": "code",
   "execution_count": null,
   "id": "9f883f21-476c-40a1-a147-a8284393dc8c",
   "metadata": {},
   "outputs": [],
   "source": [
    "result1 = asyncio.create_task(sample_angle_stage.theta.user_setpoint.get_value())\n",
    "result2 = asyncio.create_task(sample_angle_stage.roll.read())\n",
    "result3 = asyncio.create_task(sample_angle_stage.pitch.read())"
   ]
  },
  {
   "cell_type": "code",
   "execution_count": null,
   "id": "0dd54914-edce-495f-9eed-06765d738dfb",
   "metadata": {},
   "outputs": [],
   "source": [
    "print(result1,\"\\n\",result2,\"\\n\",result3,\"\\n\", )\n"
   ]
  },
  {
   "cell_type": "code",
   "execution_count": null,
   "id": "605b12c0-6d4f-4c76-a7c4-f8df737d38df",
   "metadata": {},
   "outputs": [],
   "source": [
    "asyncio.all_tasks(sample_angle_stage.roll.set(0.12))\n",
    "asyncio.all_tasks(sample_angle_stage.theta.set(0.21))\n",
    "asyncio.all_tasks(sample_angle_stage.pitch.set(0.11))"
   ]
  },
  {
   "cell_type": "code",
   "execution_count": null,
   "id": "f2743323-d81a-4cb8-9a35-97f374868082",
   "metadata": {},
   "outputs": [],
   "source": [
    "print (result1,\"\\n\\n\",result2 ,\"\\n\\n\",result3)"
   ]
  },
  {
   "cell_type": "code",
   "execution_count": null,
   "id": "1cf68ff7-2638-4a07-ba53-babe59fc4129",
   "metadata": {},
   "outputs": [],
   "source": [
    "RE(count([sample_angle_stage.theta,sample_angle_stage.roll, sample_angle_stage.pitch],5),bec)"
   ]
  },
  {
   "cell_type": "code",
   "execution_count": null,
   "id": "f65fd05f-b63c-4811-be05-d1e58ce4f849",
   "metadata": {},
   "outputs": [],
   "source": [
    "result1 = asyncio.create_task(sample_angle_stage.roll.read_configuration())\n",
    "result2 = asyncio.create_task(sample_angle_stage.roll.read_configuration())\n",
    "result3 = asyncio.create_task(sample_angle_stage.roll.read_configuration())"
   ]
  },
  {
   "cell_type": "code",
   "execution_count": null,
   "id": "ad0de76c-07ff-4447-bfdc-6b78d7b07407",
   "metadata": {},
   "outputs": [],
   "source": [
    "print (result1,\"\\n\\n\",result2 ,\"\\n\\n\",result3)"
   ]
  },
  {
   "cell_type": "code",
   "execution_count": null,
   "id": "ef9ffc5a-0699-4294-973a-6db735e030fb",
   "metadata": {},
   "outputs": [],
   "source": [
    "xyz_pv = 'BL99P-MO-STAGE-02:'"
   ]
  },
  {
   "cell_type": "code",
   "execution_count": null,
   "id": "4151692f-6e0a-481e-8c20-231102195440",
   "metadata": {},
   "outputs": [],
   "source": [
    "with DeviceCollector():\n",
    "    sample_xyz_stage =ThreeAxisStage(xyz_pv,\"sample_xyz_stage\")"
   ]
  },
  {
   "cell_type": "code",
   "execution_count": null,
   "id": "4caf40db-813a-4711-9118-20852cc6e8e5",
   "metadata": {},
   "outputs": [],
   "source": [
    "sample_xyz_stage.x.setpoint = epics_signal_rw(float, xyz_pv + \"X\")\n",
    "sample_xyz_stage.y.setpoint = epics_signal_rw(float, xyz_pv + \"Y\")\n",
    "sample_xyz_stage.z.setpoint = epics_signal_rw(float, xyz_pv + \"Z\")\n",
    "asyncio.create_task(sample_xyz_stage.x.connect())\n",
    "asyncio.create_task(sample_xyz_stage.y.connect())\n",
    "asyncio.create_task(sample_xyz_stage.z.connect())"
   ]
  },
  {
   "cell_type": "code",
   "execution_count": null,
   "id": "97dda366-5958-4ebd-ae8e-100a62484c2a",
   "metadata": {},
   "outputs": [],
   "source": [
    "result1 = asyncio.create_task(sample_xyz_stage.x.read())\n",
    "result2 = asyncio.create_task(sample_xyz_stage.y.read())\n",
    "result3 = asyncio.create_task(sample_xyz_stage.z.read())"
   ]
  },
  {
   "cell_type": "code",
   "execution_count": null,
   "id": "856e61a5-17b2-484a-9015-7d0165f77954",
   "metadata": {},
   "outputs": [],
   "source": [
    "print(result1,\"\\n\",result2,\"\\n\",result3,\"\\n\", )"
   ]
  },
  {
   "cell_type": "code",
   "execution_count": null,
   "id": "8ab4358e-6545-4cbd-9abf-edcd6a44fc1c",
   "metadata": {},
   "outputs": [],
   "source": [
    "result1 = asyncio.create_task(sample_xyz_stage.x.read_configuration())\n",
    "result2 = asyncio.create_task(sample_xyz_stage.y.read_configuration())\n",
    "result3 = asyncio.create_task(sample_xyz_stage.z.read_configuration())"
   ]
  },
  {
   "cell_type": "code",
   "execution_count": null,
   "id": "7c103aa1-5a73-4af8-a4f2-acee293ae4e1",
   "metadata": {},
   "outputs": [],
   "source": [
    "print(result1,\"\\n\",result2,\"\\n\",result3,\"\\n\", )"
   ]
  },
  {
   "cell_type": "code",
   "execution_count": null,
   "id": "5fb12f5e-9181-4cad-89a3-d8a9d483e19e",
   "metadata": {},
   "outputs": [],
   "source": [
    "RE(count([sample_xyz_stage.x, sample_xyz_stage.y, sample_xyz_stage.z ],3),bec)"
   ]
  },
  {
   "cell_type": "code",
   "execution_count": null,
   "id": "dec2d323-c26b-4254-b529-cd8dd3adf78d",
   "metadata": {},
   "outputs": [],
   "source": [
    "caget('BL99P-EA-DET-03:CAM:AndorADCSpeed_RBV')"
   ]
  },
  {
   "cell_type": "code",
   "execution_count": null,
   "id": "28fa7abf-f67d-4112-9deb-1ffafae3a92b",
   "metadata": {},
   "outputs": [],
   "source": [
    "setpoint = epics_signal_rw(Enum, 'BL99P-MO-STAGE-02:MP:SELECT')"
   ]
  },
  {
   "cell_type": "code",
   "execution_count": null,
   "id": "37381909-4b26-43e1-af3e-3de1b24016b3",
   "metadata": {
    "scrolled": true
   },
   "outputs": [],
   "source": [
    "caput('BL99P-MO-STAGE-02:MP:SELECT', Color.e)"
   ]
  },
  {
   "cell_type": "code",
   "execution_count": 2,
   "id": "8f1eb115-9551-442d-b8ab-f15fb2822cf7",
   "metadata": {},
   "outputs": [],
   "source": [
    "class p99StageSelections(str, Enum):\n",
    "    Empty = (\"Empty\",)\n",
    "    Mn5um = (\"Mn 5um\",)\n",
    "    Fe = (\"Fe (empty)\",)\n",
    "    Co5um = (\"Co 5um\",)\n",
    "    Ni5um = (\"Ni 5um\",)\n",
    "    Cu5um = (\"Cu 5um\",)\n",
    "    Zn5um = (\"Zn 5um\",)\n",
    "    Zr = (\"Zr (empty)\",)\n",
    "    Mo = (\"Mo (empty)\",)\n",
    "    Rh = (\"Rh (empty)\",)\n",
    "    Pd = (\"Pd (empty)\",)\n",
    "    Ag = (\"Ag (empty)\",)\n",
    "    Cd25um = (\"Cd 25um\",)\n",
    "    W = (\"W (empty)\",)\n",
    "    Pt = (\"Pt (empty)\",)\n",
    "    User = (\"User\",)\n",
    "\n",
    "class FilterMotor(Device):\n",
    "    def __init__(self, prefix: str, name: str):\n",
    "        self.user_setpoint = epics_signal_rw(p99StageSelections, 'BL99P-MO-STAGE-02:MP:SELECT')\n",
    "        super().__init__(name=name)"
   ]
  },
  {
   "cell_type": "code",
   "execution_count": 3,
   "id": "2ff7ba42-ed16-4b76-a374-aeb8f640fcb8",
   "metadata": {},
   "outputs": [],
   "source": [
    "with DeviceCollector():\n",
    "    filterWheel =  FilterMotor('BL99P-MO-STAGE-02:MP:SELECT', \"filterWheel\")"
   ]
  },
  {
   "cell_type": "code",
   "execution_count": null,
   "id": "2d11f389-b4f3-4806-bfce-7fa35ec7fdf9",
   "metadata": {},
   "outputs": [],
   "source": [
    "setpoint = epics_signal_rw(p99StageSelections, 'BL99P-MO-STAGE-02:MP:SELECT')\n",
    "result1 = asyncio.create_task(setpoint.connect())\n",
    "#"
   ]
  },
  {
   "cell_type": "code",
   "execution_count": 8,
   "id": "7d16a08c-4013-4d2e-a9da-f960bb2dca53",
   "metadata": {},
   "outputs": [],
   "source": [
    "result1= asyncio.gather(filterWheel.user_setpoint.set(p99StageSelections.Co5um))\n",
    "result2 = asyncio.create_task(filterWheel.user_setpoint.read())"
   ]
  },
  {
   "cell_type": "code",
   "execution_count": 9,
   "id": "18f2ef02-73f2-40a3-b198-fb39c1977d5b",
   "metadata": {},
   "outputs": [
    {
     "name": "stdout",
     "output_type": "stream",
     "text": [
      "<_GatheringFuture finished result=[None]> \n",
      " <Task finished name='Task-15' coro=<SignalR.read() done, defined at /scratch/wvx67826/myenv/lib/python3.11/site-packages/ophyd_async/core/signal.py:28> result={'filterWheel-user_setpoint': {'alarm_severity': 0, 'timestamp': 1713863975.657885, 'value': <GeneratedCho...5um: 'Co 5um'>}}> \n",
      "\n"
     ]
    }
   ],
   "source": [
    "print(result1,\"\\n\",result2,\"\\n\" )"
   ]
  }
 ],
 "metadata": {
  "kernelspec": {
   "display_name": "Python 3 (ipykernel)",
   "language": "python",
   "name": "python3"
  },
  "language_info": {
   "codemirror_mode": {
    "name": "ipython",
    "version": 3
   },
   "file_extension": ".py",
   "mimetype": "text/x-python",
   "name": "python",
   "nbconvert_exporter": "python",
   "pygments_lexer": "ipython3",
   "version": "3.11.3"
  }
 },
 "nbformat": 4,
 "nbformat_minor": 5
}
