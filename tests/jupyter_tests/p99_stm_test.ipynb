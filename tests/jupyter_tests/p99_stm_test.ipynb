{
 "cells": [
  {
   "cell_type": "code",
   "execution_count": 1,
   "id": "179961a9-c130-4cbb-b61b-fa7f75ac0efe",
   "metadata": {},
   "outputs": [
    {
     "data": {
      "text/plain": [
       "0"
      ]
     },
     "execution_count": 1,
     "metadata": {},
     "output_type": "execute_result"
    }
   ],
   "source": [
    "from ophyd_async.core import DeviceCollector, StaticPathProvider, AutoIncrementFilenameProvider\n",
    "from bluesky import RunEngine\n",
    "from bluesky.callbacks.best_effort import BestEffortCallback\n",
    "from bluesky.plans import count, scan \n",
    "# from ophyd.sim import noisy_det as det\n",
    "from databroker import Broker\n",
    "import asyncio\n",
    "#from epics import caget, caput,cainfo\n",
    "from enum import Enum\n",
    "\n",
    "from p99_bluesky.devices.p99 import FilterMotor, SampleAngleStage, p99StageSelections, ThreeAxisStage, Andor2Ad\n",
    "from p99_bluesky.plans.fast_scan import fast_scan_1d, fast_scan_grid\n",
    "from p99_bluesky.plans.stxm import stxm_fast,get_velocity_and_step_size, stxm_step\n",
    "loop = asyncio.get_event_loop()\n",
    "bec = BestEffortCallback()\n",
    "RE = RunEngine({})\n",
    "db = Broker.named('temp')\n",
    "RE.subscribe(db.insert)"
   ]
  },
  {
   "cell_type": "code",
   "execution_count": 2,
   "id": "457d51f7-53b8-49f1-a0dd-ae41dad5d1f6",
   "metadata": {},
   "outputs": [],
   "source": [
    "andor_data_patt_provider = StaticPathProvider(filename_provider= AutoIncrementFilenameProvider(base_filename=\"andor2\"),\n",
    "                                              directory_path=\"/dls/p99/data/2024/cm37284-2/processing/writenData\")"
   ]
  },
  {
   "cell_type": "code",
   "execution_count": 3,
   "id": "bf09e2ac-ee98-4925-b69f-8a988e4175dc",
   "metadata": {},
   "outputs": [],
   "source": [
    "with DeviceCollector():\n",
    "        xyz = ThreeAxisStage(prefix=\"BL99P-MO-STAGE-02:\", name=\"xyz\")\n",
    "        det_andor = Andor2Ad(prefix=\"BL99P-EA-DET-03:\", name= \"det_andor\",path_provider=andor_data_patt_provider)\n"
   ]
  },
  {
   "cell_type": "code",
   "execution_count": 12,
   "id": "4659bf37-19fd-40b7-a1fc-c1eea8d097a8",
   "metadata": {},
   "outputs": [
    {
     "name": "stderr",
     "output_type": "stream",
     "text": [
      "Run aborted\n",
      "Traceback (most recent call last):\n",
      "  File \"/usr/local/lib/python3.11/asyncio/tasks.py\", line 500, in wait_for\n",
      "    return fut.result()\n",
      "           ^^^^^^^^^^^^\n",
      "  File \"/usr/local/lib/python3.11/asyncio/queues.py\", line 158, in get\n",
      "    await getter\n",
      "asyncio.exceptions.CancelledError\n",
      "\n",
      "The above exception was the direct cause of the following exception:\n",
      "\n",
      "Traceback (most recent call last):\n",
      "  File \"/venv/lib/python3.11/site-packages/ophyd_async/core/_detector.py\", line 262, in trigger\n",
      "    async for index in self.writer.observe_indices_written(\n",
      "  File \"/venv/lib/python3.11/site-packages/ophyd_async/epics/adcore/_hdf_writer.py\", line 139, in observe_indices_written\n",
      "    async for num_captured in observe_value(self.hdf.num_captured, timeout):\n",
      "  File \"/venv/lib/python3.11/site-packages/ophyd_async/core/_signal.py\", line 480, in observe_value\n",
      "    item = await get_value()\n",
      "           ^^^^^^^^^^^^^^^^^\n",
      "  File \"/venv/lib/python3.11/site-packages/ophyd_async/core/_signal.py\", line 472, in get_value\n",
      "    return await asyncio.wait_for(q.get(), timeout)\n",
      "           ^^^^^^^^^^^^^^^^^^^^^^^^^^^^^^^^^^^^^^^^\n",
      "  File \"/usr/local/lib/python3.11/asyncio/tasks.py\", line 502, in wait_for\n",
      "    raise exceptions.TimeoutError() from exc\n",
      "TimeoutError\n",
      "\n",
      "The above exception was the direct cause of the following exception:\n",
      "\n",
      "Traceback (most recent call last):\n",
      "  File \"/venv/lib/python3.11/site-packages/bluesky/run_engine.py\", line 1588, in _run\n",
      "    msg = self._plan_stack[-1].send(resp)\n",
      "          ^^^^^^^^^^^^^^^^^^^^^^^^^^^^^^^\n",
      "  File \"/venv/lib/python3.11/site-packages/bluesky/plans.py\", line 80, in count\n",
      "    return (yield from inner_count())\n",
      "            ^^^^^^^^^^^^^^^^^^^^^^^^\n",
      "  File \"/venv/lib/python3.11/site-packages/bluesky/utils/__init__.py\", line 1246, in dec_inner\n",
      "    return (yield from plan)\n",
      "            ^^^^^^^^^^^^^^^\n",
      "  File \"/venv/lib/python3.11/site-packages/bluesky/preprocessors.py\", line 995, in stage_wrapper\n",
      "    return (yield from finalize_wrapper(inner(), unstage_devices()))\n",
      "            ^^^^^^^^^^^^^^^^^^^^^^^^^^^^^^^^^^^^^^^^^^^^^^^^^^^^^^^\n",
      "  File \"/venv/lib/python3.11/site-packages/bluesky/preprocessors.py\", line 536, in finalize_wrapper\n",
      "    ret = yield from plan\n",
      "          ^^^^^^^^^^^^^^^\n",
      "  File \"/venv/lib/python3.11/site-packages/bluesky/preprocessors.py\", line 993, in inner\n",
      "    return (yield from plan)\n",
      "            ^^^^^^^^^^^^^^^\n",
      "  File \"/venv/lib/python3.11/site-packages/bluesky/utils/__init__.py\", line 1246, in dec_inner\n",
      "    return (yield from plan)\n",
      "            ^^^^^^^^^^^^^^^\n",
      "  File \"/venv/lib/python3.11/site-packages/bluesky/preprocessors.py\", line 358, in run_wrapper\n",
      "    yield from contingency_wrapper(plan, except_plan=except_plan, else_plan=close_run)\n",
      "  File \"/venv/lib/python3.11/site-packages/bluesky/preprocessors.py\", line 604, in contingency_wrapper\n",
      "    ret = yield from plan\n",
      "          ^^^^^^^^^^^^^^^\n",
      "  File \"/venv/lib/python3.11/site-packages/bluesky/plans.py\", line 78, in inner_count\n",
      "    return (yield from bps.repeat(partial(per_shot, detectors), num=num, delay=delay))\n",
      "            ^^^^^^^^^^^^^^^^^^^^^^^^^^^^^^^^^^^^^^^^^^^^^^^^^^^^^^^^^^^^^^^^^^^^^^^^^\n",
      "  File \"/venv/lib/python3.11/site-packages/bluesky/utils/__init__.py\", line 1931, in __iter__\n",
      "    return (yield from self._iter)\n",
      "            ^^^^^^^^^^^^^^^^^^^^^\n",
      "  File \"/venv/lib/python3.11/site-packages/bluesky/plan_stubs.py\", line 1544, in repeat\n",
      "    return (yield from repeated_plan())\n",
      "            ^^^^^^^^^^^^^^^^^^^^^^^^^^\n",
      "  File \"/venv/lib/python3.11/site-packages/bluesky/plan_stubs.py\", line 1528, in repeated_plan\n",
      "    yield from ensure_generator(plan())\n",
      "  File \"/venv/lib/python3.11/site-packages/bluesky/utils/__init__.py\", line 1931, in __iter__\n",
      "    return (yield from self._iter)\n",
      "            ^^^^^^^^^^^^^^^^^^^^^\n",
      "  File \"/venv/lib/python3.11/site-packages/bluesky/plan_stubs.py\", line 1382, in one_shot\n",
      "    yield from take_reading(list(detectors))\n",
      "  File \"/venv/lib/python3.11/site-packages/bluesky/utils/__init__.py\", line 1931, in __iter__\n",
      "    return (yield from self._iter)\n",
      "            ^^^^^^^^^^^^^^^^^^^^^\n",
      "  File \"/venv/lib/python3.11/site-packages/bluesky/plan_stubs.py\", line 1264, in trigger_and_read\n",
      "    return (yield from rewindable_wrapper(inner_trigger_and_read(), rewindable))\n",
      "            ^^^^^^^^^^^^^^^^^^^^^^^^^^^^^^^^^^^^^^^^^^^^^^^^^^^^^^^^^^^^^^^^^^^\n",
      "  File \"/venv/lib/python3.11/site-packages/bluesky/preprocessors.py\", line 731, in rewindable_wrapper\n",
      "    return (yield from plan)\n",
      "            ^^^^^^^^^^^^^^^\n",
      "  File \"/venv/lib/python3.11/site-packages/bluesky/plan_stubs.py\", line 1241, in inner_trigger_and_read\n",
      "    yield from wait(group=grp)\n",
      "  File \"/venv/lib/python3.11/site-packages/bluesky/utils/__init__.py\", line 1931, in __iter__\n",
      "    return (yield from self._iter)\n",
      "            ^^^^^^^^^^^^^^^^^^^^^\n",
      "  File \"/venv/lib/python3.11/site-packages/bluesky/plan_stubs.py\", line 523, in wait\n",
      "    return (yield Msg(\"wait\", None, group=group, move_on=move_on, timeout=timeout))\n",
      "            ^^^^^^^^^^^^^^^^^^^^^^^^^^^^^^^^^^^^^^^^^^^^^^^^^^^^^^^^^^^^^^^^^^^^^^\n",
      "  File \"/venv/lib/python3.11/site-packages/bluesky/run_engine.py\", line 2353, in _status_object_completed\n",
      "    raise FailedStatus(ret) from exc\n",
      "bluesky.utils.FailedStatus: <AsyncStatus, task: <coroutine object StandardDetector.trigger at 0x7f2a7eb77cd0>, errored: TimeoutError()>\n"
     ]
    },
    {
     "ename": "FailedStatus",
     "evalue": "<AsyncStatus, task: <coroutine object StandardDetector.trigger at 0x7f2a7eb77cd0>, errored: TimeoutError()>",
     "output_type": "error",
     "traceback": [
      "\u001b[0;31m---------------------------------------------------------------------------\u001b[0m",
      "\u001b[0;31mCancelledError\u001b[0m                            Traceback (most recent call last)",
      "File \u001b[0;32m/usr/local/lib/python3.11/asyncio/tasks.py:500\u001b[0m, in \u001b[0;36mwait_for\u001b[0;34m(fut, timeout)\u001b[0m\n\u001b[1;32m    499\u001b[0m \u001b[38;5;28;01mtry\u001b[39;00m:\n\u001b[0;32m--> 500\u001b[0m     \u001b[38;5;28;01mreturn\u001b[39;00m fut\u001b[38;5;241m.\u001b[39mresult()\n\u001b[1;32m    501\u001b[0m \u001b[38;5;28;01mexcept\u001b[39;00m exceptions\u001b[38;5;241m.\u001b[39mCancelledError \u001b[38;5;28;01mas\u001b[39;00m exc:\n",
      "File \u001b[0;32m/usr/local/lib/python3.11/asyncio/queues.py:158\u001b[0m, in \u001b[0;36mQueue.get\u001b[0;34m(self)\u001b[0m\n\u001b[1;32m    157\u001b[0m \u001b[38;5;28;01mtry\u001b[39;00m:\n\u001b[0;32m--> 158\u001b[0m     \u001b[38;5;28;01mawait\u001b[39;00m getter\n\u001b[1;32m    159\u001b[0m \u001b[38;5;28;01mexcept\u001b[39;00m:\n",
      "\u001b[0;31mCancelledError\u001b[0m: ",
      "\nThe above exception was the direct cause of the following exception:\n",
      "\u001b[0;31mTimeoutError\u001b[0m                              Traceback (most recent call last)",
      "File \u001b[0;32m/venv/lib/python3.11/site-packages/ophyd_async/core/_detector.py:262\u001b[0m, in \u001b[0;36mStandardDetector.trigger\u001b[0;34m(self)\u001b[0m\n\u001b[1;32m    260\u001b[0m end_observation \u001b[38;5;241m=\u001b[39m indices_written \u001b[38;5;241m+\u001b[39m \u001b[38;5;241m1\u001b[39m\n\u001b[0;32m--> 262\u001b[0m \u001b[38;5;28;01masync\u001b[39;00m \u001b[38;5;28;01mfor\u001b[39;00m index \u001b[38;5;129;01min\u001b[39;00m \u001b[38;5;28mself\u001b[39m\u001b[38;5;241m.\u001b[39mwriter\u001b[38;5;241m.\u001b[39mobserve_indices_written(\n\u001b[1;32m    263\u001b[0m     DEFAULT_TIMEOUT\n\u001b[1;32m    264\u001b[0m     \u001b[38;5;241m+\u001b[39m (\u001b[38;5;28mself\u001b[39m\u001b[38;5;241m.\u001b[39m_trigger_info\u001b[38;5;241m.\u001b[39mlivetime \u001b[38;5;129;01mor\u001b[39;00m \u001b[38;5;241m0\u001b[39m)\n\u001b[1;32m    265\u001b[0m     \u001b[38;5;241m+\u001b[39m (\u001b[38;5;28mself\u001b[39m\u001b[38;5;241m.\u001b[39m_trigger_info\u001b[38;5;241m.\u001b[39mdeadtime \u001b[38;5;129;01mor\u001b[39;00m \u001b[38;5;241m0\u001b[39m)\n\u001b[1;32m    266\u001b[0m ):\n\u001b[1;32m    267\u001b[0m     \u001b[38;5;28;01mif\u001b[39;00m index \u001b[38;5;241m>\u001b[39m\u001b[38;5;241m=\u001b[39m end_observation:\n",
      "File \u001b[0;32m/venv/lib/python3.11/site-packages/ophyd_async/epics/adcore/_hdf_writer.py:139\u001b[0m, in \u001b[0;36mADHDFWriter.observe_indices_written\u001b[0;34m(self, timeout)\u001b[0m\n\u001b[1;32m    138\u001b[0m \u001b[38;5;250m\u001b[39m\u001b[38;5;124;03m\"\"\"Wait until a specific index is ready to be collected\"\"\"\u001b[39;00m\n\u001b[0;32m--> 139\u001b[0m \u001b[38;5;28;01masync\u001b[39;00m \u001b[38;5;28;01mfor\u001b[39;00m num_captured \u001b[38;5;129;01min\u001b[39;00m observe_value(\u001b[38;5;28mself\u001b[39m\u001b[38;5;241m.\u001b[39mhdf\u001b[38;5;241m.\u001b[39mnum_captured, timeout):\n\u001b[1;32m    140\u001b[0m     \u001b[38;5;28;01myield\u001b[39;00m num_captured \u001b[38;5;241m/\u001b[39m\u001b[38;5;241m/\u001b[39m \u001b[38;5;28mself\u001b[39m\u001b[38;5;241m.\u001b[39m_multiplier\n",
      "File \u001b[0;32m/venv/lib/python3.11/site-packages/ophyd_async/core/_signal.py:480\u001b[0m, in \u001b[0;36mobserve_value\u001b[0;34m(signal, timeout, done_status)\u001b[0m\n\u001b[1;32m    479\u001b[0m \u001b[38;5;28;01mwhile\u001b[39;00m \u001b[38;5;28;01mTrue\u001b[39;00m:\n\u001b[0;32m--> 480\u001b[0m     item \u001b[38;5;241m=\u001b[39m \u001b[38;5;28;01mawait\u001b[39;00m get_value()\n\u001b[1;32m    481\u001b[0m     \u001b[38;5;28;01mif\u001b[39;00m done_status \u001b[38;5;129;01mand\u001b[39;00m item \u001b[38;5;129;01mis\u001b[39;00m done_status:\n",
      "File \u001b[0;32m/venv/lib/python3.11/site-packages/ophyd_async/core/_signal.py:472\u001b[0m, in \u001b[0;36mobserve_value.<locals>.get_value\u001b[0;34m()\u001b[0m\n\u001b[1;32m    471\u001b[0m \u001b[38;5;28;01masync\u001b[39;00m \u001b[38;5;28;01mdef\u001b[39;00m \u001b[38;5;21mget_value\u001b[39m():\n\u001b[0;32m--> 472\u001b[0m     \u001b[38;5;28;01mreturn\u001b[39;00m \u001b[38;5;28;01mawait\u001b[39;00m asyncio\u001b[38;5;241m.\u001b[39mwait_for(q\u001b[38;5;241m.\u001b[39mget(), timeout)\n",
      "File \u001b[0;32m/usr/local/lib/python3.11/asyncio/tasks.py:502\u001b[0m, in \u001b[0;36mwait_for\u001b[0;34m(fut, timeout)\u001b[0m\n\u001b[1;32m    501\u001b[0m         \u001b[38;5;28;01mexcept\u001b[39;00m exceptions\u001b[38;5;241m.\u001b[39mCancelledError \u001b[38;5;28;01mas\u001b[39;00m exc:\n\u001b[0;32m--> 502\u001b[0m             \u001b[38;5;28;01mraise\u001b[39;00m exceptions\u001b[38;5;241m.\u001b[39mTimeoutError() \u001b[38;5;28;01mfrom\u001b[39;00m \u001b[38;5;21;01mexc\u001b[39;00m\n\u001b[1;32m    503\u001b[0m \u001b[38;5;28;01mfinally\u001b[39;00m:\n",
      "\u001b[0;31mTimeoutError\u001b[0m: ",
      "\nThe above exception was the direct cause of the following exception:\n",
      "\u001b[0;31mFailedStatus\u001b[0m                              Traceback (most recent call last)",
      "Cell \u001b[0;32mIn[12], line 1\u001b[0m\n\u001b[0;32m----> 1\u001b[0m \u001b[43mRE\u001b[49m\u001b[43m(\u001b[49m\u001b[43mcount\u001b[49m\u001b[43m(\u001b[49m\u001b[43m[\u001b[49m\u001b[43mdet_andor\u001b[49m\u001b[43m]\u001b[49m\u001b[43m,\u001b[49m\u001b[38;5;241;43m2\u001b[39;49m\u001b[43m)\u001b[49m\u001b[43m)\u001b[49m\n",
      "File \u001b[0;32m/venv/lib/python3.11/site-packages/bluesky/run_engine.py:964\u001b[0m, in \u001b[0;36mRunEngine.__call__\u001b[0;34m(self, *args, **metadata_kw)\u001b[0m\n\u001b[1;32m    960\u001b[0m         \u001b[38;5;28mself\u001b[39m\u001b[38;5;241m.\u001b[39m_blocking_event\u001b[38;5;241m.\u001b[39mset()\n\u001b[1;32m    962\u001b[0m     \u001b[38;5;28mself\u001b[39m\u001b[38;5;241m.\u001b[39m_task_fut\u001b[38;5;241m.\u001b[39madd_done_callback(set_blocking_event)\n\u001b[0;32m--> 964\u001b[0m plan_return \u001b[38;5;241m=\u001b[39m \u001b[38;5;28;43mself\u001b[39;49m\u001b[38;5;241;43m.\u001b[39;49m\u001b[43m_resume_task\u001b[49m\u001b[43m(\u001b[49m\u001b[43minit_func\u001b[49m\u001b[38;5;241;43m=\u001b[39;49m\u001b[43m_build_task\u001b[49m\u001b[43m)\u001b[49m\n\u001b[1;32m    966\u001b[0m \u001b[38;5;28;01mif\u001b[39;00m \u001b[38;5;28mself\u001b[39m\u001b[38;5;241m.\u001b[39m_interrupted:\n\u001b[1;32m    967\u001b[0m     \u001b[38;5;28;01mraise\u001b[39;00m RunEngineInterrupted(\u001b[38;5;28mself\u001b[39m\u001b[38;5;241m.\u001b[39mpause_msg) \u001b[38;5;28;01mfrom\u001b[39;00m \u001b[38;5;28;01mNone\u001b[39;00m\n",
      "File \u001b[0;32m/venv/lib/python3.11/site-packages/bluesky/run_engine.py:1100\u001b[0m, in \u001b[0;36mRunEngine._resume_task\u001b[0;34m(self, init_func)\u001b[0m\n\u001b[1;32m   1097\u001b[0m \u001b[38;5;66;03m# if the main task exception is not None, re-raise\u001b[39;00m\n\u001b[1;32m   1098\u001b[0m \u001b[38;5;66;03m# it (unless it is a canceled error)\u001b[39;00m\n\u001b[1;32m   1099\u001b[0m \u001b[38;5;28;01mif\u001b[39;00m exc \u001b[38;5;129;01mis\u001b[39;00m \u001b[38;5;129;01mnot\u001b[39;00m \u001b[38;5;28;01mNone\u001b[39;00m \u001b[38;5;129;01mand\u001b[39;00m \u001b[38;5;129;01mnot\u001b[39;00m \u001b[38;5;28misinstance\u001b[39m(exc, _RunEnginePanic):\n\u001b[0;32m-> 1100\u001b[0m     \u001b[38;5;28;01mraise\u001b[39;00m exc\n\u001b[1;32m   1101\u001b[0m \u001b[38;5;66;03m# Only try to get a result if there wasn't an error,\u001b[39;00m\n\u001b[1;32m   1102\u001b[0m \u001b[38;5;66;03m# (other than a cancelled error)\u001b[39;00m\n\u001b[1;32m   1103\u001b[0m \u001b[38;5;28;01mif\u001b[39;00m exc \u001b[38;5;129;01mis\u001b[39;00m \u001b[38;5;28;01mNone\u001b[39;00m:\n",
      "File \u001b[0;32m/venv/lib/python3.11/site-packages/bluesky/run_engine.py:1734\u001b[0m, in \u001b[0;36mRunEngine._run\u001b[0;34m(self)\u001b[0m\n\u001b[1;32m   1732\u001b[0m     exit_reason \u001b[38;5;241m=\u001b[39m \u001b[38;5;28mstr\u001b[39m(err)\n\u001b[1;32m   1733\u001b[0m     \u001b[38;5;28mself\u001b[39m\u001b[38;5;241m.\u001b[39mlog\u001b[38;5;241m.\u001b[39mexception(\u001b[38;5;124m\"\u001b[39m\u001b[38;5;124mRun aborted\u001b[39m\u001b[38;5;124m\"\u001b[39m)\n\u001b[0;32m-> 1734\u001b[0m     \u001b[38;5;28;01mraise\u001b[39;00m err\n\u001b[1;32m   1735\u001b[0m \u001b[38;5;28;01mfinally\u001b[39;00m:\n\u001b[1;32m   1736\u001b[0m     \u001b[38;5;28;01mif\u001b[39;00m \u001b[38;5;129;01mnot\u001b[39;00m exit_reason:\n",
      "File \u001b[0;32m/venv/lib/python3.11/site-packages/bluesky/run_engine.py:1588\u001b[0m, in \u001b[0;36mRunEngine._run\u001b[0;34m(self)\u001b[0m\n\u001b[1;32m   1585\u001b[0m \u001b[38;5;66;03m# The normal case of clean operation\u001b[39;00m\n\u001b[1;32m   1586\u001b[0m \u001b[38;5;28;01melse\u001b[39;00m:\n\u001b[1;32m   1587\u001b[0m     \u001b[38;5;28;01mtry\u001b[39;00m:\n\u001b[0;32m-> 1588\u001b[0m         msg \u001b[38;5;241m=\u001b[39m \u001b[38;5;28mself\u001b[39m\u001b[38;5;241m.\u001b[39m_plan_stack[\u001b[38;5;241m-\u001b[39m\u001b[38;5;241m1\u001b[39m]\u001b[38;5;241m.\u001b[39msend(resp)\n\u001b[1;32m   1589\u001b[0m     \u001b[38;5;66;03m# We have exhausted the top generator\u001b[39;00m\n\u001b[1;32m   1590\u001b[0m     \u001b[38;5;28;01mexcept\u001b[39;00m \u001b[38;5;167;01mStopIteration\u001b[39;00m:\n\u001b[1;32m   1591\u001b[0m         \u001b[38;5;66;03m# pop the dead generator go back to the top\u001b[39;00m\n",
      "File \u001b[0;32m/venv/lib/python3.11/site-packages/bluesky/plans.py:80\u001b[0m, in \u001b[0;36mcount\u001b[0;34m(detectors, num, delay, per_shot, md)\u001b[0m\n\u001b[1;32m     77\u001b[0m         \u001b[38;5;28;01myield from\u001b[39;00m bps\u001b[38;5;241m.\u001b[39mdeclare_stream(\u001b[38;5;241m*\u001b[39mdetectors, name\u001b[38;5;241m=\u001b[39m\u001b[38;5;124m\"\u001b[39m\u001b[38;5;124mprimary\u001b[39m\u001b[38;5;124m\"\u001b[39m)\n\u001b[1;32m     78\u001b[0m     \u001b[38;5;28;01mreturn\u001b[39;00m (\u001b[38;5;28;01myield from\u001b[39;00m bps\u001b[38;5;241m.\u001b[39mrepeat(partial(per_shot, detectors), num\u001b[38;5;241m=\u001b[39mnum, delay\u001b[38;5;241m=\u001b[39mdelay))\n\u001b[0;32m---> 80\u001b[0m \u001b[38;5;28;01mreturn\u001b[39;00m (\u001b[38;5;28;01myield from\u001b[39;00m inner_count())\n",
      "File \u001b[0;32m/venv/lib/python3.11/site-packages/bluesky/utils/__init__.py:1246\u001b[0m, in \u001b[0;36mmake_decorator.<locals>.dec_outer.<locals>.dec.<locals>.dec_inner\u001b[0;34m(*inner_args, **inner_kwargs)\u001b[0m\n\u001b[1;32m   1244\u001b[0m plan \u001b[38;5;241m=\u001b[39m gen_func(\u001b[38;5;241m*\u001b[39minner_args, \u001b[38;5;241m*\u001b[39m\u001b[38;5;241m*\u001b[39minner_kwargs)\n\u001b[1;32m   1245\u001b[0m plan \u001b[38;5;241m=\u001b[39m wrapper(plan, \u001b[38;5;241m*\u001b[39margs, \u001b[38;5;241m*\u001b[39m\u001b[38;5;241m*\u001b[39mkwargs)\n\u001b[0;32m-> 1246\u001b[0m \u001b[38;5;28;01mreturn\u001b[39;00m (\u001b[38;5;28;01myield from\u001b[39;00m plan)\n",
      "File \u001b[0;32m/venv/lib/python3.11/site-packages/bluesky/preprocessors.py:995\u001b[0m, in \u001b[0;36mstage_wrapper\u001b[0;34m(plan, devices)\u001b[0m\n\u001b[1;32m    992\u001b[0m     \u001b[38;5;28;01myield from\u001b[39;00m stage_devices()\n\u001b[1;32m    993\u001b[0m     \u001b[38;5;28;01mreturn\u001b[39;00m (\u001b[38;5;28;01myield from\u001b[39;00m plan)\n\u001b[0;32m--> 995\u001b[0m \u001b[38;5;28;01mreturn\u001b[39;00m (\u001b[38;5;28;01myield from\u001b[39;00m finalize_wrapper(inner(), unstage_devices()))\n",
      "File \u001b[0;32m/venv/lib/python3.11/site-packages/bluesky/preprocessors.py:536\u001b[0m, in \u001b[0;36mfinalize_wrapper\u001b[0;34m(plan, final_plan, pause_for_debug)\u001b[0m\n\u001b[1;32m    534\u001b[0m cleanup \u001b[38;5;241m=\u001b[39m \u001b[38;5;28;01mTrue\u001b[39;00m\n\u001b[1;32m    535\u001b[0m \u001b[38;5;28;01mtry\u001b[39;00m:\n\u001b[0;32m--> 536\u001b[0m     ret \u001b[38;5;241m=\u001b[39m \u001b[38;5;28;01myield from\u001b[39;00m plan\n\u001b[1;32m    537\u001b[0m \u001b[38;5;28;01mexcept\u001b[39;00m \u001b[38;5;167;01mGeneratorExit\u001b[39;00m:\n\u001b[1;32m    538\u001b[0m     cleanup \u001b[38;5;241m=\u001b[39m \u001b[38;5;28;01mFalse\u001b[39;00m\n",
      "File \u001b[0;32m/venv/lib/python3.11/site-packages/bluesky/preprocessors.py:993\u001b[0m, in \u001b[0;36mstage_wrapper.<locals>.inner\u001b[0;34m()\u001b[0m\n\u001b[1;32m    991\u001b[0m \u001b[38;5;28;01mdef\u001b[39;00m \u001b[38;5;21minner\u001b[39m():\n\u001b[1;32m    992\u001b[0m     \u001b[38;5;28;01myield from\u001b[39;00m stage_devices()\n\u001b[0;32m--> 993\u001b[0m     \u001b[38;5;28;01mreturn\u001b[39;00m (\u001b[38;5;28;01myield from\u001b[39;00m plan)\n",
      "File \u001b[0;32m/venv/lib/python3.11/site-packages/bluesky/utils/__init__.py:1246\u001b[0m, in \u001b[0;36mmake_decorator.<locals>.dec_outer.<locals>.dec.<locals>.dec_inner\u001b[0;34m(*inner_args, **inner_kwargs)\u001b[0m\n\u001b[1;32m   1244\u001b[0m plan \u001b[38;5;241m=\u001b[39m gen_func(\u001b[38;5;241m*\u001b[39minner_args, \u001b[38;5;241m*\u001b[39m\u001b[38;5;241m*\u001b[39minner_kwargs)\n\u001b[1;32m   1245\u001b[0m plan \u001b[38;5;241m=\u001b[39m wrapper(plan, \u001b[38;5;241m*\u001b[39margs, \u001b[38;5;241m*\u001b[39m\u001b[38;5;241m*\u001b[39mkwargs)\n\u001b[0;32m-> 1246\u001b[0m \u001b[38;5;28;01mreturn\u001b[39;00m (\u001b[38;5;28;01myield from\u001b[39;00m plan)\n",
      "File \u001b[0;32m/venv/lib/python3.11/site-packages/bluesky/preprocessors.py:358\u001b[0m, in \u001b[0;36mrun_wrapper\u001b[0;34m(plan, md)\u001b[0m\n\u001b[1;32m    355\u001b[0m     \u001b[38;5;28;01melse\u001b[39;00m:\n\u001b[1;32m    356\u001b[0m         \u001b[38;5;28;01myield from\u001b[39;00m close_run(exit_status\u001b[38;5;241m=\u001b[39m\u001b[38;5;124m\"\u001b[39m\u001b[38;5;124mfail\u001b[39m\u001b[38;5;124m\"\u001b[39m, reason\u001b[38;5;241m=\u001b[39m\u001b[38;5;28mstr\u001b[39m(e))\n\u001b[0;32m--> 358\u001b[0m \u001b[38;5;28;01myield from\u001b[39;00m contingency_wrapper(plan, except_plan\u001b[38;5;241m=\u001b[39mexcept_plan, else_plan\u001b[38;5;241m=\u001b[39mclose_run)\n\u001b[1;32m    359\u001b[0m \u001b[38;5;28;01mreturn\u001b[39;00m rs_uid\n",
      "File \u001b[0;32m/venv/lib/python3.11/site-packages/bluesky/preprocessors.py:604\u001b[0m, in \u001b[0;36mcontingency_wrapper\u001b[0;34m(plan, except_plan, else_plan, final_plan, pause_for_debug, auto_raise)\u001b[0m\n\u001b[1;32m    602\u001b[0m cleanup \u001b[38;5;241m=\u001b[39m \u001b[38;5;28;01mTrue\u001b[39;00m\n\u001b[1;32m    603\u001b[0m \u001b[38;5;28;01mtry\u001b[39;00m:\n\u001b[0;32m--> 604\u001b[0m     ret \u001b[38;5;241m=\u001b[39m \u001b[38;5;28;01myield from\u001b[39;00m plan\n\u001b[1;32m    605\u001b[0m \u001b[38;5;28;01mexcept\u001b[39;00m \u001b[38;5;167;01mGeneratorExit\u001b[39;00m:\n\u001b[1;32m    606\u001b[0m     cleanup \u001b[38;5;241m=\u001b[39m \u001b[38;5;28;01mFalse\u001b[39;00m\n",
      "File \u001b[0;32m/venv/lib/python3.11/site-packages/bluesky/plans.py:78\u001b[0m, in \u001b[0;36mcount.<locals>.inner_count\u001b[0;34m()\u001b[0m\n\u001b[1;32m     76\u001b[0m \u001b[38;5;28;01mif\u001b[39;00m predeclare:\n\u001b[1;32m     77\u001b[0m     \u001b[38;5;28;01myield from\u001b[39;00m bps\u001b[38;5;241m.\u001b[39mdeclare_stream(\u001b[38;5;241m*\u001b[39mdetectors, name\u001b[38;5;241m=\u001b[39m\u001b[38;5;124m\"\u001b[39m\u001b[38;5;124mprimary\u001b[39m\u001b[38;5;124m\"\u001b[39m)\n\u001b[0;32m---> 78\u001b[0m \u001b[38;5;28;01mreturn\u001b[39;00m (\u001b[38;5;28;01myield from\u001b[39;00m bps\u001b[38;5;241m.\u001b[39mrepeat(partial(per_shot, detectors), num\u001b[38;5;241m=\u001b[39mnum, delay\u001b[38;5;241m=\u001b[39mdelay))\n",
      "File \u001b[0;32m/venv/lib/python3.11/site-packages/bluesky/utils/__init__.py:1931\u001b[0m, in \u001b[0;36mPlan.__iter__\u001b[0;34m(self)\u001b[0m\n\u001b[1;32m   1929\u001b[0m \u001b[38;5;28;01mdef\u001b[39;00m \u001b[38;5;21m__iter__\u001b[39m(\u001b[38;5;28mself\u001b[39m):\n\u001b[1;32m   1930\u001b[0m     \u001b[38;5;28mself\u001b[39m\u001b[38;5;241m.\u001b[39m_stack \u001b[38;5;241m=\u001b[39m \u001b[38;5;28;01mNone\u001b[39;00m\n\u001b[0;32m-> 1931\u001b[0m     \u001b[38;5;28;01mreturn\u001b[39;00m (\u001b[38;5;28;01myield from\u001b[39;00m \u001b[38;5;28mself\u001b[39m\u001b[38;5;241m.\u001b[39m_iter)\n",
      "File \u001b[0;32m/venv/lib/python3.11/site-packages/bluesky/plan_stubs.py:1544\u001b[0m, in \u001b[0;36mrepeat\u001b[0;34m(plan, num, delay)\u001b[0m\n\u001b[1;32m   1541\u001b[0m             \u001b[38;5;28;01mif\u001b[39;00m d \u001b[38;5;241m>\u001b[39m \u001b[38;5;241m0\u001b[39m:  \u001b[38;5;66;03m# Sleep if and only if time is left to do it.\u001b[39;00m\n\u001b[1;32m   1542\u001b[0m                 \u001b[38;5;28;01myield\u001b[39;00m Msg(\u001b[38;5;124m\"\u001b[39m\u001b[38;5;124msleep\u001b[39m\u001b[38;5;124m\"\u001b[39m, \u001b[38;5;28;01mNone\u001b[39;00m, d)\n\u001b[0;32m-> 1544\u001b[0m \u001b[38;5;28;01mreturn\u001b[39;00m (\u001b[38;5;28;01myield from\u001b[39;00m repeated_plan())\n",
      "File \u001b[0;32m/venv/lib/python3.11/site-packages/bluesky/plan_stubs.py:1528\u001b[0m, in \u001b[0;36mrepeat.<locals>.repeated_plan\u001b[0;34m()\u001b[0m\n\u001b[1;32m   1526\u001b[0m now \u001b[38;5;241m=\u001b[39m time\u001b[38;5;241m.\u001b[39mtime()  \u001b[38;5;66;03m# Intercept the flow in its earliest moment.\u001b[39;00m\n\u001b[1;32m   1527\u001b[0m \u001b[38;5;28;01myield\u001b[39;00m Msg(\u001b[38;5;124m\"\u001b[39m\u001b[38;5;124mcheckpoint\u001b[39m\u001b[38;5;124m\"\u001b[39m)\n\u001b[0;32m-> 1528\u001b[0m \u001b[38;5;28;01myield from\u001b[39;00m ensure_generator(plan())\n\u001b[1;32m   1529\u001b[0m \u001b[38;5;28;01mtry\u001b[39;00m:\n\u001b[1;32m   1530\u001b[0m     d \u001b[38;5;241m=\u001b[39m \u001b[38;5;28mnext\u001b[39m(delay)\n",
      "File \u001b[0;32m/venv/lib/python3.11/site-packages/bluesky/utils/__init__.py:1931\u001b[0m, in \u001b[0;36mPlan.__iter__\u001b[0;34m(self)\u001b[0m\n\u001b[1;32m   1929\u001b[0m \u001b[38;5;28;01mdef\u001b[39;00m \u001b[38;5;21m__iter__\u001b[39m(\u001b[38;5;28mself\u001b[39m):\n\u001b[1;32m   1930\u001b[0m     \u001b[38;5;28mself\u001b[39m\u001b[38;5;241m.\u001b[39m_stack \u001b[38;5;241m=\u001b[39m \u001b[38;5;28;01mNone\u001b[39;00m\n\u001b[0;32m-> 1931\u001b[0m     \u001b[38;5;28;01mreturn\u001b[39;00m (\u001b[38;5;28;01myield from\u001b[39;00m \u001b[38;5;28mself\u001b[39m\u001b[38;5;241m.\u001b[39m_iter)\n",
      "File \u001b[0;32m/venv/lib/python3.11/site-packages/bluesky/plan_stubs.py:1382\u001b[0m, in \u001b[0;36mone_shot\u001b[0;34m(detectors, take_reading)\u001b[0m\n\u001b[1;32m   1380\u001b[0m take_reading \u001b[38;5;241m=\u001b[39m trigger_and_read \u001b[38;5;28;01mif\u001b[39;00m take_reading \u001b[38;5;129;01mis\u001b[39;00m \u001b[38;5;28;01mNone\u001b[39;00m \u001b[38;5;28;01melse\u001b[39;00m take_reading\n\u001b[1;32m   1381\u001b[0m \u001b[38;5;28;01myield\u001b[39;00m Msg(\u001b[38;5;124m\"\u001b[39m\u001b[38;5;124mcheckpoint\u001b[39m\u001b[38;5;124m\"\u001b[39m)\n\u001b[0;32m-> 1382\u001b[0m \u001b[38;5;28;01myield from\u001b[39;00m take_reading(\u001b[38;5;28mlist\u001b[39m(detectors))\n",
      "File \u001b[0;32m/venv/lib/python3.11/site-packages/bluesky/utils/__init__.py:1931\u001b[0m, in \u001b[0;36mPlan.__iter__\u001b[0;34m(self)\u001b[0m\n\u001b[1;32m   1929\u001b[0m \u001b[38;5;28;01mdef\u001b[39;00m \u001b[38;5;21m__iter__\u001b[39m(\u001b[38;5;28mself\u001b[39m):\n\u001b[1;32m   1930\u001b[0m     \u001b[38;5;28mself\u001b[39m\u001b[38;5;241m.\u001b[39m_stack \u001b[38;5;241m=\u001b[39m \u001b[38;5;28;01mNone\u001b[39;00m\n\u001b[0;32m-> 1931\u001b[0m     \u001b[38;5;28;01mreturn\u001b[39;00m (\u001b[38;5;28;01myield from\u001b[39;00m \u001b[38;5;28mself\u001b[39m\u001b[38;5;241m.\u001b[39m_iter)\n",
      "File \u001b[0;32m/venv/lib/python3.11/site-packages/bluesky/plan_stubs.py:1264\u001b[0m, in \u001b[0;36mtrigger_and_read\u001b[0;34m(devices, name)\u001b[0m\n\u001b[1;32m   1260\u001b[0m     \u001b[38;5;28;01mreturn\u001b[39;00m ret\n\u001b[1;32m   1262\u001b[0m \u001b[38;5;28;01mfrom\u001b[39;00m \u001b[38;5;21;01m.\u001b[39;00m\u001b[38;5;21;01mpreprocessors\u001b[39;00m \u001b[38;5;28;01mimport\u001b[39;00m rewindable_wrapper\n\u001b[0;32m-> 1264\u001b[0m \u001b[38;5;28;01mreturn\u001b[39;00m (\u001b[38;5;28;01myield from\u001b[39;00m rewindable_wrapper(inner_trigger_and_read(), rewindable))\n",
      "File \u001b[0;32m/venv/lib/python3.11/site-packages/bluesky/preprocessors.py:731\u001b[0m, in \u001b[0;36mrewindable_wrapper\u001b[0;34m(plan, rewindable)\u001b[0m\n\u001b[1;32m    729\u001b[0m     \u001b[38;5;28;01mreturn\u001b[39;00m (\u001b[38;5;28;01myield from\u001b[39;00m finalize_wrapper(plan, restore_rewindable()))\n\u001b[1;32m    730\u001b[0m \u001b[38;5;28;01melse\u001b[39;00m:\n\u001b[0;32m--> 731\u001b[0m     \u001b[38;5;28;01mreturn\u001b[39;00m (\u001b[38;5;28;01myield from\u001b[39;00m plan)\n",
      "File \u001b[0;32m/venv/lib/python3.11/site-packages/bluesky/plan_stubs.py:1241\u001b[0m, in \u001b[0;36mtrigger_and_read.<locals>.inner_trigger_and_read\u001b[0;34m()\u001b[0m\n\u001b[1;32m   1239\u001b[0m \u001b[38;5;66;03m# Skip 'wait' if none of the devices implemented a trigger method.\u001b[39;00m\n\u001b[1;32m   1240\u001b[0m \u001b[38;5;28;01mif\u001b[39;00m \u001b[38;5;129;01mnot\u001b[39;00m no_wait:\n\u001b[0;32m-> 1241\u001b[0m     \u001b[38;5;28;01myield from\u001b[39;00m wait(group\u001b[38;5;241m=\u001b[39mgrp)\n\u001b[1;32m   1242\u001b[0m \u001b[38;5;28;01myield from\u001b[39;00m create(name)\n\u001b[1;32m   1244\u001b[0m \u001b[38;5;28;01mdef\u001b[39;00m \u001b[38;5;21mread_plan\u001b[39m():\n",
      "File \u001b[0;32m/venv/lib/python3.11/site-packages/bluesky/utils/__init__.py:1931\u001b[0m, in \u001b[0;36mPlan.__iter__\u001b[0;34m(self)\u001b[0m\n\u001b[1;32m   1929\u001b[0m \u001b[38;5;28;01mdef\u001b[39;00m \u001b[38;5;21m__iter__\u001b[39m(\u001b[38;5;28mself\u001b[39m):\n\u001b[1;32m   1930\u001b[0m     \u001b[38;5;28mself\u001b[39m\u001b[38;5;241m.\u001b[39m_stack \u001b[38;5;241m=\u001b[39m \u001b[38;5;28;01mNone\u001b[39;00m\n\u001b[0;32m-> 1931\u001b[0m     \u001b[38;5;28;01mreturn\u001b[39;00m (\u001b[38;5;28;01myield from\u001b[39;00m \u001b[38;5;28mself\u001b[39m\u001b[38;5;241m.\u001b[39m_iter)\n",
      "File \u001b[0;32m/venv/lib/python3.11/site-packages/bluesky/plan_stubs.py:523\u001b[0m, in \u001b[0;36mwait\u001b[0;34m(group, timeout, move_on)\u001b[0m\n\u001b[1;32m    508\u001b[0m \u001b[38;5;129m@plan\u001b[39m\n\u001b[1;32m    509\u001b[0m \u001b[38;5;28;01mdef\u001b[39;00m \u001b[38;5;21mwait\u001b[39m(group\u001b[38;5;241m=\u001b[39m\u001b[38;5;28;01mNone\u001b[39;00m, \u001b[38;5;241m*\u001b[39m, timeout\u001b[38;5;241m=\u001b[39m\u001b[38;5;28;01mNone\u001b[39;00m, move_on\u001b[38;5;241m=\u001b[39m\u001b[38;5;28;01mFalse\u001b[39;00m):\n\u001b[1;32m    510\u001b[0m \u001b[38;5;250m    \u001b[39m\u001b[38;5;124;03m\"\"\"\u001b[39;00m\n\u001b[1;32m    511\u001b[0m \u001b[38;5;124;03m    Wait for all statuses in a group to report being finished.\u001b[39;00m\n\u001b[1;32m    512\u001b[0m \n\u001b[0;32m   (...)\u001b[0m\n\u001b[1;32m    521\u001b[0m \u001b[38;5;124;03m        Msg('wait', None, group=group, move_on=move_on, timeout=timeout)\u001b[39;00m\n\u001b[1;32m    522\u001b[0m \u001b[38;5;124;03m    \"\"\"\u001b[39;00m\n\u001b[0;32m--> 523\u001b[0m     \u001b[38;5;28;01mreturn\u001b[39;00m (\u001b[38;5;28;01myield\u001b[39;00m Msg(\u001b[38;5;124m\"\u001b[39m\u001b[38;5;124mwait\u001b[39m\u001b[38;5;124m\"\u001b[39m, \u001b[38;5;28;01mNone\u001b[39;00m, group\u001b[38;5;241m=\u001b[39mgroup, move_on\u001b[38;5;241m=\u001b[39mmove_on, timeout\u001b[38;5;241m=\u001b[39mtimeout))\n",
      "File \u001b[0;32m/venv/lib/python3.11/site-packages/bluesky/run_engine.py:2353\u001b[0m, in \u001b[0;36mRunEngine._status_object_completed\u001b[0;34m(self, ret, p_event, pardon_failures)\u001b[0m\n\u001b[1;32m   2351\u001b[0m \u001b[38;5;28;01mtry\u001b[39;00m:\n\u001b[1;32m   2352\u001b[0m     exc \u001b[38;5;241m=\u001b[39m ret\u001b[38;5;241m.\u001b[39mexception(timeout\u001b[38;5;241m=\u001b[39m\u001b[38;5;241m0\u001b[39m)\n\u001b[0;32m-> 2353\u001b[0m     \u001b[38;5;28;01mraise\u001b[39;00m FailedStatus(ret) \u001b[38;5;28;01mfrom\u001b[39;00m \u001b[38;5;21;01mexc\u001b[39;00m\n\u001b[1;32m   2354\u001b[0m \u001b[38;5;28;01mexcept\u001b[39;00m \u001b[38;5;167;01mException\u001b[39;00m \u001b[38;5;28;01mas\u001b[39;00m e:\n\u001b[1;32m   2355\u001b[0m     \u001b[38;5;28mself\u001b[39m\u001b[38;5;241m.\u001b[39m_exception \u001b[38;5;241m=\u001b[39m e\n",
      "\u001b[0;31mFailedStatus\u001b[0m: <AsyncStatus, task: <coroutine object StandardDetector.trigger at 0x7f2a7eb77cd0>, errored: TimeoutError()>"
     ]
    },
    {
     "name": "stderr",
     "output_type": "stream",
     "text": [
      "CA.Client.Exception...............................................\n",
      "    Warning: \"Virtual circuit disconnect\"\n",
      "    Context: \"bl99p-ea-serv-01.diamond.ac.uk:41480\"\n",
      "    Source File: modules/ca/src/client/cac.cpp line 1237\n",
      "    Current Time: Thu Sep 12 2024 15:53:58.062768421\n",
      "..................................................................\n"
     ]
    }
   ],
   "source": [
    "RE(count([det_andor],2))"
   ]
  },
  {
   "cell_type": "code",
   "execution_count": null,
   "id": "d8c27fd2-f796-497e-8177-8b9b70a9c84c",
   "metadata": {},
   "outputs": [],
   "source": [
    "from ophyd_async.core import set_and_wait_for_value\n",
    "\n",
    "status = await set_and_wait_for_value(det_andor.hdf.capture, True)\n",
    "## await det_andor.hdf.capture.read()\n",
    "await status\n",
    "await det_andor.hdf.capture.set(False,wait=False)\n",
    "await det_andor.hdf.capture.read()\n",
    "status = await set_and_wait_for_value(det_andor.hdf.capture, False)\n",
    "await status\n",
    "print(\"Done\")"
   ]
  },
  {
   "cell_type": "code",
   "execution_count": 5,
   "id": "dd89fd06-ba73-4126-b922-22eea6b17857",
   "metadata": {},
   "outputs": [],
   "source": [
    "from p99_bluesky.plans import tiggerImg,takeImg\n",
    "from collections import defaultdict\n",
    "from ophyd_async.core import DetectorTrigger"
   ]
  },
  {
   "cell_type": "code",
   "execution_count": 9,
   "id": "5e7574fc-7297-4245-b0cc-01e6a9ab74ce",
   "metadata": {},
   "outputs": [
    {
     "data": {
      "text/plain": [
       "('7e0886d5-3485-4cb4-b98a-92f0ec82f84a',)"
      ]
     },
     "execution_count": 9,
     "metadata": {},
     "output_type": "execute_result"
    }
   ],
   "source": [
    "\n",
    "RE(takeImg(det= det_andor,exposure = 0.1,\n",
    "        n_img = 2,))"
   ]
  },
  {
   "cell_type": "code",
   "execution_count": null,
   "id": "3320f494-aeed-4cd0-b915-d343ae90d3d5",
   "metadata": {},
   "outputs": [],
   "source": [
    "from epics import caget,caput"
   ]
  },
  {
   "cell_type": "code",
   "execution_count": null,
   "id": "a92dce34-926d-4eaa-9f5b-113d686a885d",
   "metadata": {},
   "outputs": [],
   "source": [
    "caget(\"BL99P-EA-DET-03:HDF5:Capture\")"
   ]
  },
  {
   "cell_type": "code",
   "execution_count": 7,
   "id": "0628ed74-337e-4ad2-8fe4-1bed28afc3b9",
   "metadata": {},
   "outputs": [
    {
     "ename": "NameError",
     "evalue": "name 'caput' is not defined",
     "output_type": "error",
     "traceback": [
      "\u001b[0;31m---------------------------------------------------------------------------\u001b[0m",
      "\u001b[0;31mNameError\u001b[0m                                 Traceback (most recent call last)",
      "Cell \u001b[0;32mIn[7], line 1\u001b[0m\n\u001b[0;32m----> 1\u001b[0m \u001b[43mcaput\u001b[49m(\u001b[38;5;124m\"\u001b[39m\u001b[38;5;124mBL99P-EA-DET-03:HDF5:Capture\u001b[39m\u001b[38;5;124m\"\u001b[39m,\u001b[38;5;241m0\u001b[39m)\n",
      "\u001b[0;31mNameError\u001b[0m: name 'caput' is not defined"
     ]
    }
   ],
   "source": [
    "caput(\"BL99P-EA-DET-03:HDF5:Capture\",0)"
   ]
  },
  {
   "cell_type": "code",
   "execution_count": 11,
   "id": "edabf6e4-a82b-4a74-8260-4fff1628db7c",
   "metadata": {},
   "outputs": [
    {
     "name": "stderr",
     "output_type": "stream",
     "text": [
      "Run aborted\n",
      "Traceback (most recent call last):\n",
      "  File \"/usr/local/lib/python3.11/asyncio/tasks.py\", line 500, in wait_for\n",
      "    return fut.result()\n",
      "           ^^^^^^^^^^^^\n",
      "  File \"/usr/local/lib/python3.11/asyncio/queues.py\", line 158, in get\n",
      "    await getter\n",
      "asyncio.exceptions.CancelledError\n",
      "\n",
      "The above exception was the direct cause of the following exception:\n",
      "\n",
      "Traceback (most recent call last):\n",
      "  File \"/venv/lib/python3.11/site-packages/ophyd_async/core/_detector.py\", line 262, in trigger\n",
      "    async for index in self.writer.observe_indices_written(\n",
      "  File \"/venv/lib/python3.11/site-packages/ophyd_async/epics/adcore/_hdf_writer.py\", line 139, in observe_indices_written\n",
      "    async for num_captured in observe_value(self.hdf.num_captured, timeout):\n",
      "  File \"/venv/lib/python3.11/site-packages/ophyd_async/core/_signal.py\", line 480, in observe_value\n",
      "    item = await get_value()\n",
      "           ^^^^^^^^^^^^^^^^^\n",
      "  File \"/venv/lib/python3.11/site-packages/ophyd_async/core/_signal.py\", line 472, in get_value\n",
      "    return await asyncio.wait_for(q.get(), timeout)\n",
      "           ^^^^^^^^^^^^^^^^^^^^^^^^^^^^^^^^^^^^^^^^\n",
      "  File \"/usr/local/lib/python3.11/asyncio/tasks.py\", line 502, in wait_for\n",
      "    raise exceptions.TimeoutError() from exc\n",
      "TimeoutError\n",
      "\n",
      "The above exception was the direct cause of the following exception:\n",
      "\n",
      "Traceback (most recent call last):\n",
      "  File \"/venv/lib/python3.11/site-packages/bluesky/run_engine.py\", line 1588, in _run\n",
      "    msg = self._plan_stack[-1].send(resp)\n",
      "          ^^^^^^^^^^^^^^^^^^^^^^^^^^^^^^^\n",
      "  File \"/workspaces/p99-bluesky/src/p99_bluesky/plans/ad_plans.py\", line 53, in tiggerImg\n",
      "    return (yield from innerTiggerImg())\n",
      "            ^^^^^^^^^^^^^^^^^^^^^^^^^^^\n",
      "  File \"/venv/lib/python3.11/site-packages/bluesky/utils/__init__.py\", line 1246, in dec_inner\n",
      "    return (yield from plan)\n",
      "            ^^^^^^^^^^^^^^^\n",
      "  File \"/venv/lib/python3.11/site-packages/bluesky/preprocessors.py\", line 358, in run_wrapper\n",
      "    yield from contingency_wrapper(plan, except_plan=except_plan, else_plan=close_run)\n",
      "  File \"/venv/lib/python3.11/site-packages/bluesky/preprocessors.py\", line 604, in contingency_wrapper\n",
      "    ret = yield from plan\n",
      "          ^^^^^^^^^^^^^^^\n",
      "  File \"/workspaces/p99-bluesky/src/p99_bluesky/plans/ad_plans.py\", line 51, in innerTiggerImg\n",
      "    return (yield from bps.trigger_and_read([dets]))\n",
      "            ^^^^^^^^^^^^^^^^^^^^^^^^^^^^^^^^^^^^^^^\n",
      "  File \"/venv/lib/python3.11/site-packages/bluesky/utils/__init__.py\", line 1931, in __iter__\n",
      "    return (yield from self._iter)\n",
      "            ^^^^^^^^^^^^^^^^^^^^^\n",
      "  File \"/venv/lib/python3.11/site-packages/bluesky/plan_stubs.py\", line 1264, in trigger_and_read\n",
      "    return (yield from rewindable_wrapper(inner_trigger_and_read(), rewindable))\n",
      "            ^^^^^^^^^^^^^^^^^^^^^^^^^^^^^^^^^^^^^^^^^^^^^^^^^^^^^^^^^^^^^^^^^^^\n",
      "  File \"/venv/lib/python3.11/site-packages/bluesky/preprocessors.py\", line 731, in rewindable_wrapper\n",
      "    return (yield from plan)\n",
      "            ^^^^^^^^^^^^^^^\n",
      "  File \"/venv/lib/python3.11/site-packages/bluesky/plan_stubs.py\", line 1241, in inner_trigger_and_read\n",
      "    yield from wait(group=grp)\n",
      "  File \"/venv/lib/python3.11/site-packages/bluesky/utils/__init__.py\", line 1931, in __iter__\n",
      "    return (yield from self._iter)\n",
      "            ^^^^^^^^^^^^^^^^^^^^^\n",
      "  File \"/venv/lib/python3.11/site-packages/bluesky/plan_stubs.py\", line 523, in wait\n",
      "    return (yield Msg(\"wait\", None, group=group, move_on=move_on, timeout=timeout))\n",
      "            ^^^^^^^^^^^^^^^^^^^^^^^^^^^^^^^^^^^^^^^^^^^^^^^^^^^^^^^^^^^^^^^^^^^^^^\n",
      "  File \"/venv/lib/python3.11/site-packages/bluesky/run_engine.py\", line 2353, in _status_object_completed\n",
      "    raise FailedStatus(ret) from exc\n",
      "bluesky.utils.FailedStatus: <AsyncStatus, task: <coroutine object StandardDetector.trigger at 0x7f2a7d20b890>, errored: TimeoutError()>\n"
     ]
    },
    {
     "ename": "FailedStatus",
     "evalue": "<AsyncStatus, task: <coroutine object StandardDetector.trigger at 0x7f2a7d20b890>, errored: TimeoutError()>",
     "output_type": "error",
     "traceback": [
      "\u001b[0;31m---------------------------------------------------------------------------\u001b[0m",
      "\u001b[0;31mCancelledError\u001b[0m                            Traceback (most recent call last)",
      "File \u001b[0;32m/usr/local/lib/python3.11/asyncio/tasks.py:500\u001b[0m, in \u001b[0;36mwait_for\u001b[0;34m(fut, timeout)\u001b[0m\n\u001b[1;32m    499\u001b[0m \u001b[38;5;28;01mtry\u001b[39;00m:\n\u001b[0;32m--> 500\u001b[0m     \u001b[38;5;28;01mreturn\u001b[39;00m fut\u001b[38;5;241m.\u001b[39mresult()\n\u001b[1;32m    501\u001b[0m \u001b[38;5;28;01mexcept\u001b[39;00m exceptions\u001b[38;5;241m.\u001b[39mCancelledError \u001b[38;5;28;01mas\u001b[39;00m exc:\n",
      "File \u001b[0;32m/usr/local/lib/python3.11/asyncio/queues.py:158\u001b[0m, in \u001b[0;36mQueue.get\u001b[0;34m(self)\u001b[0m\n\u001b[1;32m    157\u001b[0m \u001b[38;5;28;01mtry\u001b[39;00m:\n\u001b[0;32m--> 158\u001b[0m     \u001b[38;5;28;01mawait\u001b[39;00m getter\n\u001b[1;32m    159\u001b[0m \u001b[38;5;28;01mexcept\u001b[39;00m:\n",
      "\u001b[0;31mCancelledError\u001b[0m: ",
      "\nThe above exception was the direct cause of the following exception:\n",
      "\u001b[0;31mTimeoutError\u001b[0m                              Traceback (most recent call last)",
      "File \u001b[0;32m/venv/lib/python3.11/site-packages/ophyd_async/core/_detector.py:262\u001b[0m, in \u001b[0;36mStandardDetector.trigger\u001b[0;34m(self)\u001b[0m\n\u001b[1;32m    260\u001b[0m end_observation \u001b[38;5;241m=\u001b[39m indices_written \u001b[38;5;241m+\u001b[39m \u001b[38;5;241m1\u001b[39m\n\u001b[0;32m--> 262\u001b[0m \u001b[38;5;28;01masync\u001b[39;00m \u001b[38;5;28;01mfor\u001b[39;00m index \u001b[38;5;129;01min\u001b[39;00m \u001b[38;5;28mself\u001b[39m\u001b[38;5;241m.\u001b[39mwriter\u001b[38;5;241m.\u001b[39mobserve_indices_written(\n\u001b[1;32m    263\u001b[0m     DEFAULT_TIMEOUT\n\u001b[1;32m    264\u001b[0m     \u001b[38;5;241m+\u001b[39m (\u001b[38;5;28mself\u001b[39m\u001b[38;5;241m.\u001b[39m_trigger_info\u001b[38;5;241m.\u001b[39mlivetime \u001b[38;5;129;01mor\u001b[39;00m \u001b[38;5;241m0\u001b[39m)\n\u001b[1;32m    265\u001b[0m     \u001b[38;5;241m+\u001b[39m (\u001b[38;5;28mself\u001b[39m\u001b[38;5;241m.\u001b[39m_trigger_info\u001b[38;5;241m.\u001b[39mdeadtime \u001b[38;5;129;01mor\u001b[39;00m \u001b[38;5;241m0\u001b[39m)\n\u001b[1;32m    266\u001b[0m ):\n\u001b[1;32m    267\u001b[0m     \u001b[38;5;28;01mif\u001b[39;00m index \u001b[38;5;241m>\u001b[39m\u001b[38;5;241m=\u001b[39m end_observation:\n",
      "File \u001b[0;32m/venv/lib/python3.11/site-packages/ophyd_async/epics/adcore/_hdf_writer.py:139\u001b[0m, in \u001b[0;36mADHDFWriter.observe_indices_written\u001b[0;34m(self, timeout)\u001b[0m\n\u001b[1;32m    138\u001b[0m \u001b[38;5;250m\u001b[39m\u001b[38;5;124;03m\"\"\"Wait until a specific index is ready to be collected\"\"\"\u001b[39;00m\n\u001b[0;32m--> 139\u001b[0m \u001b[38;5;28;01masync\u001b[39;00m \u001b[38;5;28;01mfor\u001b[39;00m num_captured \u001b[38;5;129;01min\u001b[39;00m observe_value(\u001b[38;5;28mself\u001b[39m\u001b[38;5;241m.\u001b[39mhdf\u001b[38;5;241m.\u001b[39mnum_captured, timeout):\n\u001b[1;32m    140\u001b[0m     \u001b[38;5;28;01myield\u001b[39;00m num_captured \u001b[38;5;241m/\u001b[39m\u001b[38;5;241m/\u001b[39m \u001b[38;5;28mself\u001b[39m\u001b[38;5;241m.\u001b[39m_multiplier\n",
      "File \u001b[0;32m/venv/lib/python3.11/site-packages/ophyd_async/core/_signal.py:480\u001b[0m, in \u001b[0;36mobserve_value\u001b[0;34m(signal, timeout, done_status)\u001b[0m\n\u001b[1;32m    479\u001b[0m \u001b[38;5;28;01mwhile\u001b[39;00m \u001b[38;5;28;01mTrue\u001b[39;00m:\n\u001b[0;32m--> 480\u001b[0m     item \u001b[38;5;241m=\u001b[39m \u001b[38;5;28;01mawait\u001b[39;00m get_value()\n\u001b[1;32m    481\u001b[0m     \u001b[38;5;28;01mif\u001b[39;00m done_status \u001b[38;5;129;01mand\u001b[39;00m item \u001b[38;5;129;01mis\u001b[39;00m done_status:\n",
      "File \u001b[0;32m/venv/lib/python3.11/site-packages/ophyd_async/core/_signal.py:472\u001b[0m, in \u001b[0;36mobserve_value.<locals>.get_value\u001b[0;34m()\u001b[0m\n\u001b[1;32m    471\u001b[0m \u001b[38;5;28;01masync\u001b[39;00m \u001b[38;5;28;01mdef\u001b[39;00m \u001b[38;5;21mget_value\u001b[39m():\n\u001b[0;32m--> 472\u001b[0m     \u001b[38;5;28;01mreturn\u001b[39;00m \u001b[38;5;28;01mawait\u001b[39;00m asyncio\u001b[38;5;241m.\u001b[39mwait_for(q\u001b[38;5;241m.\u001b[39mget(), timeout)\n",
      "File \u001b[0;32m/usr/local/lib/python3.11/asyncio/tasks.py:502\u001b[0m, in \u001b[0;36mwait_for\u001b[0;34m(fut, timeout)\u001b[0m\n\u001b[1;32m    501\u001b[0m         \u001b[38;5;28;01mexcept\u001b[39;00m exceptions\u001b[38;5;241m.\u001b[39mCancelledError \u001b[38;5;28;01mas\u001b[39;00m exc:\n\u001b[0;32m--> 502\u001b[0m             \u001b[38;5;28;01mraise\u001b[39;00m exceptions\u001b[38;5;241m.\u001b[39mTimeoutError() \u001b[38;5;28;01mfrom\u001b[39;00m \u001b[38;5;21;01mexc\u001b[39;00m\n\u001b[1;32m    503\u001b[0m \u001b[38;5;28;01mfinally\u001b[39;00m:\n",
      "\u001b[0;31mTimeoutError\u001b[0m: ",
      "\nThe above exception was the direct cause of the following exception:\n",
      "\u001b[0;31mFailedStatus\u001b[0m                              Traceback (most recent call last)",
      "Cell \u001b[0;32mIn[11], line 1\u001b[0m\n\u001b[0;32m----> 1\u001b[0m \u001b[43mRE\u001b[49m\u001b[43m(\u001b[49m\u001b[43mtiggerImg\u001b[49m\u001b[43m(\u001b[49m\u001b[43mdets\u001b[49m\u001b[38;5;241;43m=\u001b[39;49m\u001b[43m \u001b[49m\u001b[43mdet_andor\u001b[49m\u001b[43m,\u001b[49m\u001b[43mvalue\u001b[49m\u001b[43m \u001b[49m\u001b[38;5;241;43m=\u001b[39;49m\u001b[43m \u001b[49m\u001b[38;5;241;43m0.1\u001b[39;49m\u001b[43m)\u001b[49m\u001b[43m)\u001b[49m\n",
      "File \u001b[0;32m/venv/lib/python3.11/site-packages/bluesky/run_engine.py:964\u001b[0m, in \u001b[0;36mRunEngine.__call__\u001b[0;34m(self, *args, **metadata_kw)\u001b[0m\n\u001b[1;32m    960\u001b[0m         \u001b[38;5;28mself\u001b[39m\u001b[38;5;241m.\u001b[39m_blocking_event\u001b[38;5;241m.\u001b[39mset()\n\u001b[1;32m    962\u001b[0m     \u001b[38;5;28mself\u001b[39m\u001b[38;5;241m.\u001b[39m_task_fut\u001b[38;5;241m.\u001b[39madd_done_callback(set_blocking_event)\n\u001b[0;32m--> 964\u001b[0m plan_return \u001b[38;5;241m=\u001b[39m \u001b[38;5;28;43mself\u001b[39;49m\u001b[38;5;241;43m.\u001b[39;49m\u001b[43m_resume_task\u001b[49m\u001b[43m(\u001b[49m\u001b[43minit_func\u001b[49m\u001b[38;5;241;43m=\u001b[39;49m\u001b[43m_build_task\u001b[49m\u001b[43m)\u001b[49m\n\u001b[1;32m    966\u001b[0m \u001b[38;5;28;01mif\u001b[39;00m \u001b[38;5;28mself\u001b[39m\u001b[38;5;241m.\u001b[39m_interrupted:\n\u001b[1;32m    967\u001b[0m     \u001b[38;5;28;01mraise\u001b[39;00m RunEngineInterrupted(\u001b[38;5;28mself\u001b[39m\u001b[38;5;241m.\u001b[39mpause_msg) \u001b[38;5;28;01mfrom\u001b[39;00m \u001b[38;5;28;01mNone\u001b[39;00m\n",
      "File \u001b[0;32m/venv/lib/python3.11/site-packages/bluesky/run_engine.py:1100\u001b[0m, in \u001b[0;36mRunEngine._resume_task\u001b[0;34m(self, init_func)\u001b[0m\n\u001b[1;32m   1097\u001b[0m \u001b[38;5;66;03m# if the main task exception is not None, re-raise\u001b[39;00m\n\u001b[1;32m   1098\u001b[0m \u001b[38;5;66;03m# it (unless it is a canceled error)\u001b[39;00m\n\u001b[1;32m   1099\u001b[0m \u001b[38;5;28;01mif\u001b[39;00m exc \u001b[38;5;129;01mis\u001b[39;00m \u001b[38;5;129;01mnot\u001b[39;00m \u001b[38;5;28;01mNone\u001b[39;00m \u001b[38;5;129;01mand\u001b[39;00m \u001b[38;5;129;01mnot\u001b[39;00m \u001b[38;5;28misinstance\u001b[39m(exc, _RunEnginePanic):\n\u001b[0;32m-> 1100\u001b[0m     \u001b[38;5;28;01mraise\u001b[39;00m exc\n\u001b[1;32m   1101\u001b[0m \u001b[38;5;66;03m# Only try to get a result if there wasn't an error,\u001b[39;00m\n\u001b[1;32m   1102\u001b[0m \u001b[38;5;66;03m# (other than a cancelled error)\u001b[39;00m\n\u001b[1;32m   1103\u001b[0m \u001b[38;5;28;01mif\u001b[39;00m exc \u001b[38;5;129;01mis\u001b[39;00m \u001b[38;5;28;01mNone\u001b[39;00m:\n",
      "File \u001b[0;32m/venv/lib/python3.11/site-packages/bluesky/run_engine.py:1734\u001b[0m, in \u001b[0;36mRunEngine._run\u001b[0;34m(self)\u001b[0m\n\u001b[1;32m   1732\u001b[0m     exit_reason \u001b[38;5;241m=\u001b[39m \u001b[38;5;28mstr\u001b[39m(err)\n\u001b[1;32m   1733\u001b[0m     \u001b[38;5;28mself\u001b[39m\u001b[38;5;241m.\u001b[39mlog\u001b[38;5;241m.\u001b[39mexception(\u001b[38;5;124m\"\u001b[39m\u001b[38;5;124mRun aborted\u001b[39m\u001b[38;5;124m\"\u001b[39m)\n\u001b[0;32m-> 1734\u001b[0m     \u001b[38;5;28;01mraise\u001b[39;00m err\n\u001b[1;32m   1735\u001b[0m \u001b[38;5;28;01mfinally\u001b[39;00m:\n\u001b[1;32m   1736\u001b[0m     \u001b[38;5;28;01mif\u001b[39;00m \u001b[38;5;129;01mnot\u001b[39;00m exit_reason:\n",
      "File \u001b[0;32m/venv/lib/python3.11/site-packages/bluesky/run_engine.py:1588\u001b[0m, in \u001b[0;36mRunEngine._run\u001b[0;34m(self)\u001b[0m\n\u001b[1;32m   1585\u001b[0m \u001b[38;5;66;03m# The normal case of clean operation\u001b[39;00m\n\u001b[1;32m   1586\u001b[0m \u001b[38;5;28;01melse\u001b[39;00m:\n\u001b[1;32m   1587\u001b[0m     \u001b[38;5;28;01mtry\u001b[39;00m:\n\u001b[0;32m-> 1588\u001b[0m         msg \u001b[38;5;241m=\u001b[39m \u001b[38;5;28mself\u001b[39m\u001b[38;5;241m.\u001b[39m_plan_stack[\u001b[38;5;241m-\u001b[39m\u001b[38;5;241m1\u001b[39m]\u001b[38;5;241m.\u001b[39msend(resp)\n\u001b[1;32m   1589\u001b[0m     \u001b[38;5;66;03m# We have exhausted the top generator\u001b[39;00m\n\u001b[1;32m   1590\u001b[0m     \u001b[38;5;28;01mexcept\u001b[39;00m \u001b[38;5;167;01mStopIteration\u001b[39;00m:\n\u001b[1;32m   1591\u001b[0m         \u001b[38;5;66;03m# pop the dead generator go back to the top\u001b[39;00m\n",
      "File \u001b[0;32m/workspaces/p99-bluesky/src/p99_bluesky/plans/ad_plans.py:53\u001b[0m, in \u001b[0;36mtiggerImg\u001b[0;34m(dets, value)\u001b[0m\n\u001b[1;32m     49\u001b[0m \u001b[38;5;129m@bpp\u001b[39m\u001b[38;5;241m.\u001b[39mrun_decorator()\n\u001b[1;32m     50\u001b[0m \u001b[38;5;28;01mdef\u001b[39;00m \u001b[38;5;21minnerTiggerImg\u001b[39m():\n\u001b[1;32m     51\u001b[0m     \u001b[38;5;28;01mreturn\u001b[39;00m (\u001b[38;5;28;01myield from\u001b[39;00m bps\u001b[38;5;241m.\u001b[39mtrigger_and_read([dets]))\n\u001b[0;32m---> 53\u001b[0m \u001b[38;5;28;01mreturn\u001b[39;00m (\u001b[38;5;28;01myield from\u001b[39;00m innerTiggerImg())\n",
      "File \u001b[0;32m/venv/lib/python3.11/site-packages/bluesky/utils/__init__.py:1246\u001b[0m, in \u001b[0;36mmake_decorator.<locals>.dec_outer.<locals>.dec.<locals>.dec_inner\u001b[0;34m(*inner_args, **inner_kwargs)\u001b[0m\n\u001b[1;32m   1244\u001b[0m plan \u001b[38;5;241m=\u001b[39m gen_func(\u001b[38;5;241m*\u001b[39minner_args, \u001b[38;5;241m*\u001b[39m\u001b[38;5;241m*\u001b[39minner_kwargs)\n\u001b[1;32m   1245\u001b[0m plan \u001b[38;5;241m=\u001b[39m wrapper(plan, \u001b[38;5;241m*\u001b[39margs, \u001b[38;5;241m*\u001b[39m\u001b[38;5;241m*\u001b[39mkwargs)\n\u001b[0;32m-> 1246\u001b[0m \u001b[38;5;28;01mreturn\u001b[39;00m (\u001b[38;5;28;01myield from\u001b[39;00m plan)\n",
      "File \u001b[0;32m/venv/lib/python3.11/site-packages/bluesky/preprocessors.py:358\u001b[0m, in \u001b[0;36mrun_wrapper\u001b[0;34m(plan, md)\u001b[0m\n\u001b[1;32m    355\u001b[0m     \u001b[38;5;28;01melse\u001b[39;00m:\n\u001b[1;32m    356\u001b[0m         \u001b[38;5;28;01myield from\u001b[39;00m close_run(exit_status\u001b[38;5;241m=\u001b[39m\u001b[38;5;124m\"\u001b[39m\u001b[38;5;124mfail\u001b[39m\u001b[38;5;124m\"\u001b[39m, reason\u001b[38;5;241m=\u001b[39m\u001b[38;5;28mstr\u001b[39m(e))\n\u001b[0;32m--> 358\u001b[0m \u001b[38;5;28;01myield from\u001b[39;00m contingency_wrapper(plan, except_plan\u001b[38;5;241m=\u001b[39mexcept_plan, else_plan\u001b[38;5;241m=\u001b[39mclose_run)\n\u001b[1;32m    359\u001b[0m \u001b[38;5;28;01mreturn\u001b[39;00m rs_uid\n",
      "File \u001b[0;32m/venv/lib/python3.11/site-packages/bluesky/preprocessors.py:604\u001b[0m, in \u001b[0;36mcontingency_wrapper\u001b[0;34m(plan, except_plan, else_plan, final_plan, pause_for_debug, auto_raise)\u001b[0m\n\u001b[1;32m    602\u001b[0m cleanup \u001b[38;5;241m=\u001b[39m \u001b[38;5;28;01mTrue\u001b[39;00m\n\u001b[1;32m    603\u001b[0m \u001b[38;5;28;01mtry\u001b[39;00m:\n\u001b[0;32m--> 604\u001b[0m     ret \u001b[38;5;241m=\u001b[39m \u001b[38;5;28;01myield from\u001b[39;00m plan\n\u001b[1;32m    605\u001b[0m \u001b[38;5;28;01mexcept\u001b[39;00m \u001b[38;5;167;01mGeneratorExit\u001b[39;00m:\n\u001b[1;32m    606\u001b[0m     cleanup \u001b[38;5;241m=\u001b[39m \u001b[38;5;28;01mFalse\u001b[39;00m\n",
      "File \u001b[0;32m/workspaces/p99-bluesky/src/p99_bluesky/plans/ad_plans.py:51\u001b[0m, in \u001b[0;36mtiggerImg.<locals>.innerTiggerImg\u001b[0;34m()\u001b[0m\n\u001b[1;32m     49\u001b[0m \u001b[38;5;129m@bpp\u001b[39m\u001b[38;5;241m.\u001b[39mrun_decorator()\n\u001b[1;32m     50\u001b[0m \u001b[38;5;28;01mdef\u001b[39;00m \u001b[38;5;21minnerTiggerImg\u001b[39m():\n\u001b[0;32m---> 51\u001b[0m     \u001b[38;5;28;01mreturn\u001b[39;00m (\u001b[38;5;28;01myield from\u001b[39;00m bps\u001b[38;5;241m.\u001b[39mtrigger_and_read([dets]))\n",
      "File \u001b[0;32m/venv/lib/python3.11/site-packages/bluesky/utils/__init__.py:1931\u001b[0m, in \u001b[0;36mPlan.__iter__\u001b[0;34m(self)\u001b[0m\n\u001b[1;32m   1929\u001b[0m \u001b[38;5;28;01mdef\u001b[39;00m \u001b[38;5;21m__iter__\u001b[39m(\u001b[38;5;28mself\u001b[39m):\n\u001b[1;32m   1930\u001b[0m     \u001b[38;5;28mself\u001b[39m\u001b[38;5;241m.\u001b[39m_stack \u001b[38;5;241m=\u001b[39m \u001b[38;5;28;01mNone\u001b[39;00m\n\u001b[0;32m-> 1931\u001b[0m     \u001b[38;5;28;01mreturn\u001b[39;00m (\u001b[38;5;28;01myield from\u001b[39;00m \u001b[38;5;28mself\u001b[39m\u001b[38;5;241m.\u001b[39m_iter)\n",
      "File \u001b[0;32m/venv/lib/python3.11/site-packages/bluesky/plan_stubs.py:1264\u001b[0m, in \u001b[0;36mtrigger_and_read\u001b[0;34m(devices, name)\u001b[0m\n\u001b[1;32m   1260\u001b[0m     \u001b[38;5;28;01mreturn\u001b[39;00m ret\n\u001b[1;32m   1262\u001b[0m \u001b[38;5;28;01mfrom\u001b[39;00m \u001b[38;5;21;01m.\u001b[39;00m\u001b[38;5;21;01mpreprocessors\u001b[39;00m \u001b[38;5;28;01mimport\u001b[39;00m rewindable_wrapper\n\u001b[0;32m-> 1264\u001b[0m \u001b[38;5;28;01mreturn\u001b[39;00m (\u001b[38;5;28;01myield from\u001b[39;00m rewindable_wrapper(inner_trigger_and_read(), rewindable))\n",
      "File \u001b[0;32m/venv/lib/python3.11/site-packages/bluesky/preprocessors.py:731\u001b[0m, in \u001b[0;36mrewindable_wrapper\u001b[0;34m(plan, rewindable)\u001b[0m\n\u001b[1;32m    729\u001b[0m     \u001b[38;5;28;01mreturn\u001b[39;00m (\u001b[38;5;28;01myield from\u001b[39;00m finalize_wrapper(plan, restore_rewindable()))\n\u001b[1;32m    730\u001b[0m \u001b[38;5;28;01melse\u001b[39;00m:\n\u001b[0;32m--> 731\u001b[0m     \u001b[38;5;28;01mreturn\u001b[39;00m (\u001b[38;5;28;01myield from\u001b[39;00m plan)\n",
      "File \u001b[0;32m/venv/lib/python3.11/site-packages/bluesky/plan_stubs.py:1241\u001b[0m, in \u001b[0;36mtrigger_and_read.<locals>.inner_trigger_and_read\u001b[0;34m()\u001b[0m\n\u001b[1;32m   1239\u001b[0m \u001b[38;5;66;03m# Skip 'wait' if none of the devices implemented a trigger method.\u001b[39;00m\n\u001b[1;32m   1240\u001b[0m \u001b[38;5;28;01mif\u001b[39;00m \u001b[38;5;129;01mnot\u001b[39;00m no_wait:\n\u001b[0;32m-> 1241\u001b[0m     \u001b[38;5;28;01myield from\u001b[39;00m wait(group\u001b[38;5;241m=\u001b[39mgrp)\n\u001b[1;32m   1242\u001b[0m \u001b[38;5;28;01myield from\u001b[39;00m create(name)\n\u001b[1;32m   1244\u001b[0m \u001b[38;5;28;01mdef\u001b[39;00m \u001b[38;5;21mread_plan\u001b[39m():\n",
      "File \u001b[0;32m/venv/lib/python3.11/site-packages/bluesky/utils/__init__.py:1931\u001b[0m, in \u001b[0;36mPlan.__iter__\u001b[0;34m(self)\u001b[0m\n\u001b[1;32m   1929\u001b[0m \u001b[38;5;28;01mdef\u001b[39;00m \u001b[38;5;21m__iter__\u001b[39m(\u001b[38;5;28mself\u001b[39m):\n\u001b[1;32m   1930\u001b[0m     \u001b[38;5;28mself\u001b[39m\u001b[38;5;241m.\u001b[39m_stack \u001b[38;5;241m=\u001b[39m \u001b[38;5;28;01mNone\u001b[39;00m\n\u001b[0;32m-> 1931\u001b[0m     \u001b[38;5;28;01mreturn\u001b[39;00m (\u001b[38;5;28;01myield from\u001b[39;00m \u001b[38;5;28mself\u001b[39m\u001b[38;5;241m.\u001b[39m_iter)\n",
      "File \u001b[0;32m/venv/lib/python3.11/site-packages/bluesky/plan_stubs.py:523\u001b[0m, in \u001b[0;36mwait\u001b[0;34m(group, timeout, move_on)\u001b[0m\n\u001b[1;32m    508\u001b[0m \u001b[38;5;129m@plan\u001b[39m\n\u001b[1;32m    509\u001b[0m \u001b[38;5;28;01mdef\u001b[39;00m \u001b[38;5;21mwait\u001b[39m(group\u001b[38;5;241m=\u001b[39m\u001b[38;5;28;01mNone\u001b[39;00m, \u001b[38;5;241m*\u001b[39m, timeout\u001b[38;5;241m=\u001b[39m\u001b[38;5;28;01mNone\u001b[39;00m, move_on\u001b[38;5;241m=\u001b[39m\u001b[38;5;28;01mFalse\u001b[39;00m):\n\u001b[1;32m    510\u001b[0m \u001b[38;5;250m    \u001b[39m\u001b[38;5;124;03m\"\"\"\u001b[39;00m\n\u001b[1;32m    511\u001b[0m \u001b[38;5;124;03m    Wait for all statuses in a group to report being finished.\u001b[39;00m\n\u001b[1;32m    512\u001b[0m \n\u001b[0;32m   (...)\u001b[0m\n\u001b[1;32m    521\u001b[0m \u001b[38;5;124;03m        Msg('wait', None, group=group, move_on=move_on, timeout=timeout)\u001b[39;00m\n\u001b[1;32m    522\u001b[0m \u001b[38;5;124;03m    \"\"\"\u001b[39;00m\n\u001b[0;32m--> 523\u001b[0m     \u001b[38;5;28;01mreturn\u001b[39;00m (\u001b[38;5;28;01myield\u001b[39;00m Msg(\u001b[38;5;124m\"\u001b[39m\u001b[38;5;124mwait\u001b[39m\u001b[38;5;124m\"\u001b[39m, \u001b[38;5;28;01mNone\u001b[39;00m, group\u001b[38;5;241m=\u001b[39mgroup, move_on\u001b[38;5;241m=\u001b[39mmove_on, timeout\u001b[38;5;241m=\u001b[39mtimeout))\n",
      "File \u001b[0;32m/venv/lib/python3.11/site-packages/bluesky/run_engine.py:2353\u001b[0m, in \u001b[0;36mRunEngine._status_object_completed\u001b[0;34m(self, ret, p_event, pardon_failures)\u001b[0m\n\u001b[1;32m   2351\u001b[0m \u001b[38;5;28;01mtry\u001b[39;00m:\n\u001b[1;32m   2352\u001b[0m     exc \u001b[38;5;241m=\u001b[39m ret\u001b[38;5;241m.\u001b[39mexception(timeout\u001b[38;5;241m=\u001b[39m\u001b[38;5;241m0\u001b[39m)\n\u001b[0;32m-> 2353\u001b[0m     \u001b[38;5;28;01mraise\u001b[39;00m FailedStatus(ret) \u001b[38;5;28;01mfrom\u001b[39;00m \u001b[38;5;21;01mexc\u001b[39;00m\n\u001b[1;32m   2354\u001b[0m \u001b[38;5;28;01mexcept\u001b[39;00m \u001b[38;5;167;01mException\u001b[39;00m \u001b[38;5;28;01mas\u001b[39;00m e:\n\u001b[1;32m   2355\u001b[0m     \u001b[38;5;28mself\u001b[39m\u001b[38;5;241m.\u001b[39m_exception \u001b[38;5;241m=\u001b[39m e\n",
      "\u001b[0;31mFailedStatus\u001b[0m: <AsyncStatus, task: <coroutine object StandardDetector.trigger at 0x7f2a7d20b890>, errored: TimeoutError()>"
     ]
    }
   ],
   "source": [
    "RE(tiggerImg(dets= det_andor,value = 0.1))"
   ]
  },
  {
   "cell_type": "code",
   "execution_count": null,
   "id": "81288e99-fe47-4ad4-8574-04461643bfc3",
   "metadata": {},
   "outputs": [],
   "source": []
  }
 ],
 "metadata": {
  "kernelspec": {
   "display_name": "Python 3 (ipykernel)",
   "language": "python",
   "name": "python3"
  },
  "language_info": {
   "codemirror_mode": {
    "name": "ipython",
    "version": 3
   },
   "file_extension": ".py",
   "mimetype": "text/x-python",
   "name": "python",
   "nbconvert_exporter": "python",
   "pygments_lexer": "ipython3",
   "version": "3.11.10"
  }
 },
 "nbformat": 4,
 "nbformat_minor": 5
}
