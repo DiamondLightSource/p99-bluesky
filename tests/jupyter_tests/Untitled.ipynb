{
 "cells": [
  {
   "cell_type": "code",
   "execution_count": 4,
   "id": "3fd89bb1-aaf8-4c23-915d-4c413968942c",
   "metadata": {},
   "outputs": [
    {
     "name": "stdout",
     "output_type": "stream",
     "text": [
      "{'start': [{'uid': 'c37fc9c5-1c7a-4459-bc04-c5828d1dd2bd', 'time': 1718880157.6688328, 'versions': {'ophyd': '1.9.0', 'bluesky': '1.13.0a3'}, 'scan_id': 1, 'plan_type': 'generator', 'plan_name': 'tiggerImg'}], 'descriptor': [{'configuration': {'andor2': {'data': {}, 'timestamps': {}, 'data_keys': {}}}, 'data_keys': {'andor2': {'source': 'mock+ca://TESTHDF5:FullFileName_RBV', 'shape': (20, 10), 'dtype': 'array', 'external': 'STREAM:', 'object_name': 'andor2'}, 'andor2-sum': {'source': 'mock+ca://TESTHDF5:FullFileName_RBV', 'shape': (), 'dtype': 'number', 'external': 'STREAM:', 'object_name': 'andor2'}}, 'name': 'primary', 'object_keys': {'andor2': ['andor2', 'andor2-sum']}, 'run_start': 'c37fc9c5-1c7a-4459-bc04-c5828d1dd2bd', 'time': 1718880157.6740034, 'uid': '1b731f4e-69c9-4487-aa83-7758ab360846', 'hints': {'andor2': {'fields': ['andor2']}}}], 'stream_resource': [{'uid': '5063abde-5a25-4f06-add2-e1ed724d63aa', 'data_key': 'andor2', 'spec': 'AD_HDF5_SWMR_SLICE', 'root': '.', 'resource_path': '.', 'resource_kwargs': {'path': '/entry/data/data', 'multiplier': 1, 'timestamps': '/entry/instrument/NDAttributes/NDArrayTimeStamp'}, 'path_semantics': 'posix', 'run_start': 'c37fc9c5-1c7a-4459-bc04-c5828d1dd2bd'}, {'uid': '5e34ed35-dba1-4bb7-a9e2-b81ebf0b7c2c', 'data_key': 'andor2-sum', 'spec': 'AD_HDF5_SWMR_SLICE', 'root': '.', 'resource_path': '.', 'resource_kwargs': {'path': '/entry/instrument/NDAttributes/StatsTotal', 'multiplier': 1, 'timestamps': '/entry/instrument/NDAttributes/NDArrayTimeStamp'}, 'path_semantics': 'posix', 'run_start': 'c37fc9c5-1c7a-4459-bc04-c5828d1dd2bd'}], 'stream_datum': [{'stream_resource': '5063abde-5a25-4f06-add2-e1ed724d63aa', 'uid': '5063abde-5a25-4f06-add2-e1ed724d63aa/0', 'seq_nums': {'start': 1, 'stop': 2}, 'indices': {'start': 0, 'stop': 1}, 'descriptor': '1b731f4e-69c9-4487-aa83-7758ab360846'}, {'stream_resource': '5e34ed35-dba1-4bb7-a9e2-b81ebf0b7c2c', 'uid': '5e34ed35-dba1-4bb7-a9e2-b81ebf0b7c2c/0', 'seq_nums': {'start': 1, 'stop': 2}, 'indices': {'start': 0, 'stop': 1}, 'descriptor': '1b731f4e-69c9-4487-aa83-7758ab360846'}], 'event': [{'uid': '1bd5f70f-6b59-4c43-8184-d0be20c398f9', 'time': 1718880157.6745586, 'data': {}, 'timestamps': {}, 'seq_num': 1, 'filled': {}, 'descriptor': '1b731f4e-69c9-4487-aa83-7758ab360846'}], 'stop': [{'uid': '89a71bc8-8ee2-4818-9e7d-9ee6c76d6348', 'time': 1718880157.6746662, 'run_start': 'c37fc9c5-1c7a-4459-bc04-c5828d1dd2bd', 'exit_status': 'success', 'reason': '', 'num_events': {'primary': 1}}]}\n"
     ]
    }
   ],
   "source": [
    "print({'start': [{'uid': 'c37fc9c5-1c7a-4459-bc04-c5828d1dd2bd', 'time': 1718880157.6688328, 'versions': {'ophyd': '1.9.0', 'bluesky': '1.13.0a3'}, 'scan_id': 1, 'plan_type': 'generator', 'plan_name': 'tiggerImg'}], 'descriptor': [{'configuration': {'andor2': {'data': {}, 'timestamps': {}, 'data_keys': {}}}, 'data_keys': {'andor2': {'source': 'mock+ca://TESTHDF5:FullFileName_RBV', 'shape': (20, 10), 'dtype': 'array', 'external': 'STREAM:', 'object_name': 'andor2'}, 'andor2-sum': {'source': 'mock+ca://TESTHDF5:FullFileName_RBV', 'shape': (), 'dtype': 'number', 'external': 'STREAM:', 'object_name': 'andor2'}}, 'name': 'primary', 'object_keys': {'andor2': ['andor2', 'andor2-sum']}, 'run_start': 'c37fc9c5-1c7a-4459-bc04-c5828d1dd2bd', 'time': 1718880157.6740034, 'uid': '1b731f4e-69c9-4487-aa83-7758ab360846', 'hints': {'andor2': {'fields': ['andor2']}}}], 'stream_resource': [{'uid': '5063abde-5a25-4f06-add2-e1ed724d63aa', 'data_key': 'andor2', 'spec': 'AD_HDF5_SWMR_SLICE', 'root': '.', 'resource_path': '.', 'resource_kwargs': {'path': '/entry/data/data', 'multiplier': 1, 'timestamps': '/entry/instrument/NDAttributes/NDArrayTimeStamp'}, 'path_semantics': 'posix', 'run_start': 'c37fc9c5-1c7a-4459-bc04-c5828d1dd2bd'}, {'uid': '5e34ed35-dba1-4bb7-a9e2-b81ebf0b7c2c', 'data_key': 'andor2-sum', 'spec': 'AD_HDF5_SWMR_SLICE', 'root': '.', 'resource_path': '.', 'resource_kwargs': {'path': '/entry/instrument/NDAttributes/StatsTotal', 'multiplier': 1, 'timestamps': '/entry/instrument/NDAttributes/NDArrayTimeStamp'}, 'path_semantics': 'posix', 'run_start': 'c37fc9c5-1c7a-4459-bc04-c5828d1dd2bd'}], 'stream_datum': [{'stream_resource': '5063abde-5a25-4f06-add2-e1ed724d63aa', 'uid': '5063abde-5a25-4f06-add2-e1ed724d63aa/0', 'seq_nums': {'start': 1, 'stop': 2}, 'indices': {'start': 0, 'stop': 1}, 'descriptor': '1b731f4e-69c9-4487-aa83-7758ab360846'}, {'stream_resource': '5e34ed35-dba1-4bb7-a9e2-b81ebf0b7c2c', 'uid': '5e34ed35-dba1-4bb7-a9e2-b81ebf0b7c2c/0', 'seq_nums': {'start': 1, 'stop': 2}, 'indices': {'start': 0, 'stop': 1}, 'descriptor': '1b731f4e-69c9-4487-aa83-7758ab360846'}], 'event': [{'uid': '1bd5f70f-6b59-4c43-8184-d0be20c398f9', 'time': 1718880157.6745586, 'data': {}, 'timestamps': {}, 'seq_num': 1, 'filled': {}, 'descriptor': '1b731f4e-69c9-4487-aa83-7758ab360846'}], 'stop': [{'uid': '89a71bc8-8ee2-4818-9e7d-9ee6c76d6348', 'time': 1718880157.6746662, 'run_start': 'c37fc9c5-1c7a-4459-bc04-c5828d1dd2bd', 'exit_status': 'success', 'reason': '', 'num_events': {'primary': 1}}]})"
   ]
  },
  {
   "cell_type": "code",
   "execution_count": null,
   "id": "b87bbf7d-f112-40c9-b248-b7539fd037c6",
   "metadata": {},
   "outputs": [],
   "source": []
  }
 ],
 "metadata": {
  "kernelspec": {
   "display_name": "Python 3 (ipykernel)",
   "language": "python",
   "name": "python3"
  },
  "language_info": {
   "codemirror_mode": {
    "name": "ipython",
    "version": 3
   },
   "file_extension": ".py",
   "mimetype": "text/x-python",
   "name": "python",
   "nbconvert_exporter": "python",
   "pygments_lexer": "ipython3",
   "version": "3.11.9"
  }
 },
 "nbformat": 4,
 "nbformat_minor": 5
}
