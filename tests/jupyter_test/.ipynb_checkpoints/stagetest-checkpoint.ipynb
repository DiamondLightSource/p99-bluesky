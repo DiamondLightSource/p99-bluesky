{
 "cells": [
  {
   "cell_type": "code",
   "execution_count": 1,
   "id": "80438dca-48cb-4cad-ac8c-014295bc27de",
   "metadata": {},
   "outputs": [],
   "source": [
    "from ophyd_async.core import DeviceCollector \n",
    "from ophyd_async.epics.motion.motor import Motor\n",
    "from ophyd_async.core import Device\n",
    "from ophyd_async.epics.signal import epics_signal_rw\n",
    "from bluesky.callbacks.best_effort import BestEffortCallback\n",
    "from bluesky import RunEngine\n",
    "from bluesky.plans import count, scan \n",
    "from ophyd.sim import det1\n",
    "from bluesky import utils\n",
    "from bluesky.utils import Msg\n",
    "from dodal.beamlines.beamline_utils import set_directory_provider\n",
    "from ophyd_async.core._providers import StaticDirectoryProvider\n",
    "from ophyd_async.epics.signal import (\n",
    "    epics_signal_r,\n",
    "    epics_signal_rw,\n",
    "    epics_signal_x,\n",
    ")\n",
    "\n",
    "import asyncio\n",
    "from epics import caget\n",
    "loop = asyncio.get_event_loop()\n",
    "bec = BestEffortCallback()\n",
    "RE = RunEngine({})"
   ]
  },
  {
   "cell_type": "code",
   "execution_count": 2,
   "id": "70f8f818-4c6a-4c34-9359-92dc89e82797",
   "metadata": {},
   "outputs": [],
   "source": [
    "import os \n",
    "os.chdir(\"/scratch/wvx67826/p99Bluesky/src/\")"
   ]
  },
  {
   "cell_type": "code",
   "execution_count": 16,
   "id": "ae7eac0a-426d-415e-bdac-5969031daa29",
   "metadata": {},
   "outputs": [],
   "source": [
    "from p99Bluesky.devices.p99.sample_stage import SampleAngleStage\n",
    "from p99Bluesky.devices.stages import XYZStage\n"
   ]
  },
  {
   "cell_type": "code",
   "execution_count": 4,
   "id": "ebc11af5-e80d-4ca9-bf0e-5df624ebad4e",
   "metadata": {},
   "outputs": [],
   "source": [
    "with DeviceCollector():\n",
    "    sample_angle_stage = SampleAngleStage('BL99P-MO-STAGE-01:',name = \"sample_angle_stage\")\n",
    "#result = asyncio.create_task(x.connect())"
   ]
  },
  {
   "cell_type": "code",
   "execution_count": 10,
   "id": "9f883f21-476c-40a1-a147-a8284393dc8c",
   "metadata": {},
   "outputs": [],
   "source": [
    "result1 = asyncio.create_task(sample_stage.theta.setpoint.get_value())\n",
    "result2 = asyncio.create_task(sample_stage.roll.read())\n",
    "result3 = asyncio.create_task(sample_stage.pitch.read())"
   ]
  },
  {
   "cell_type": "code",
   "execution_count": 6,
   "id": "0dd54914-edce-495f-9eed-06765d738dfb",
   "metadata": {},
   "outputs": [
    {
     "name": "stdout",
     "output_type": "stream",
     "text": [
      "<Task finished name='Task-22' coro=<SignalR.get_value() done, defined at /scratch/wvx67826/myenv/lib/python3.11/site-packages/ophyd_async/core/signal.py:28> result=0.2> \n",
      " <Task finished name='Task-23' coro=<StandardReadable.read() done, defined at /scratch/wvx67826/myenv/lib/python3.11/site-packages/ophyd_async/core/standard_readable.py:68> result={'sample_stage-roll': {'alarm_severity': 0, 'timestamp': 1713543448.982173, 'value': 0.2}}> \n",
      " <Task finished name='Task-24' coro=<StandardReadable.read() done, defined at /scratch/wvx67826/myenv/lib/python3.11/site-packages/ophyd_async/core/standard_readable.py:68> result={'sample_stage-pitch': {'alarm_severity': 0, 'timestamp': 1713543448.982167, 'value': 0.2}}> \n",
      "\n"
     ]
    }
   ],
   "source": [
    "print(result1,\"\\n\",result2,\"\\n\",result3,\"\\n\", )\n"
   ]
  },
  {
   "cell_type": "code",
   "execution_count": 7,
   "id": "605b12c0-6d4f-4c76-a7c4-f8df737d38df",
   "metadata": {},
   "outputs": [
    {
     "data": {
      "text/plain": [
       "set()"
      ]
     },
     "execution_count": 7,
     "metadata": {},
     "output_type": "execute_result"
    }
   ],
   "source": [
    "asyncio.all_tasks(sample_stage.roll.set(0.1))\n",
    "asyncio.all_tasks(sample_stage.theta.set(0.1))\n",
    "asyncio.all_tasks(sample_stage.pitch.set(0.1))"
   ]
  },
  {
   "cell_type": "code",
   "execution_count": 11,
   "id": "f2743323-d81a-4cb8-9a35-97f374868082",
   "metadata": {},
   "outputs": [
    {
     "name": "stdout",
     "output_type": "stream",
     "text": [
      "<Task finished name='Task-48' coro=<SignalR.get_value() done, defined at /scratch/wvx67826/myenv/lib/python3.11/site-packages/ophyd_async/core/signal.py:28> result=0.1> \n",
      "\n",
      " <Task finished name='Task-49' coro=<StandardReadable.read() done, defined at /scratch/wvx67826/myenv/lib/python3.11/site-packages/ophyd_async/core/standard_readable.py:68> result={'sample_stage-roll': {'alarm_severity': 0, 'timestamp': 1713774158.854572, 'value': 0.1}}> \n",
      "\n",
      " <Task finished name='Task-50' coro=<StandardReadable.read() done, defined at /scratch/wvx67826/myenv/lib/python3.11/site-packages/ophyd_async/core/standard_readable.py:68> result={'sample_stage-pitch': {'alarm_severity': 0, 'timestamp': 1713774158.854565, 'value': 0.1}}>\n"
     ]
    }
   ],
   "source": [
    "print (result1,\"\\n\\n\",result2 ,\"\\n\\n\",result3)"
   ]
  },
  {
   "cell_type": "code",
   "execution_count": 15,
   "id": "1cf68ff7-2638-4a07-ba53-babe59fc4129",
   "metadata": {},
   "outputs": [
    {
     "name": "stdout",
     "output_type": "stream",
     "text": [
      "\n",
      "\n",
      "Transient Scan ID: 4     Time: 2024-04-22 09:24:25\n",
      "Persistent Unique Scan ID: '45eb494e-b5a4-4c94-aa7f-077720444351'\n",
      "New stream: 'primary'\n",
      "+-----------+------------+--------------------+-------------------+--------------------+\n",
      "|   seq_num |       time | sample_stage-theta | sample_stage-roll | sample_stage-pitch |\n",
      "+-----------+------------+--------------------+-------------------+--------------------+\n",
      "|         1 | 09:24:25.4 |              0.100 |             0.100 |              0.100 |\n",
      "|         2 | 09:24:25.9 |              0.100 |             0.100 |              0.100 |\n",
      "|         3 | 09:24:26.4 |              0.100 |             0.100 |              0.100 |\n",
      "|         4 | 09:24:26.8 |              0.100 |             0.100 |              0.100 |\n",
      "|         5 | 09:24:27.4 |              0.100 |             0.100 |              0.100 |\n",
      "+-----------+------------+--------------------+-------------------+--------------------+\n",
      "generator count ['45eb494e'] (scan num: 4)\n",
      "\n",
      "\n",
      "\n"
     ]
    },
    {
     "data": {
      "text/plain": [
       "('45eb494e-b5a4-4c94-aa7f-077720444351',)"
      ]
     },
     "execution_count": 15,
     "metadata": {},
     "output_type": "execute_result"
    },
    {
     "data": {
      "image/png": "[encoded data removed]",
      "text/plain": [
       "<Figure size 500x1500 with 3 Axes>"
      ]
     },
     "metadata": {},
     "output_type": "display_data"
    }
   ],
   "source": [
    "RE(count([sample_stage.theta,sample_stage.roll, sample_stage.pitch],5),bec)"
   ]
  },
  {
   "cell_type": "code",
   "execution_count": null,
   "id": "ef9ffc5a-0699-4294-973a-6db735e030fb",
   "metadata": {},
   "outputs": [],
   "source": []
  },
  {
   "cell_type": "code",
   "execution_count": 19,
   "id": "4151692f-6e0a-481e-8c20-231102195440",
   "metadata": {},
   "outputs": [],
   "source": [
    "with DeviceCollector():\n",
    "     sample_xyz_stage =XYZStage('BL99P-MO-STAGE-02:',\"sample_xyz_stage\")"
   ]
  },
  {
   "cell_type": "code",
   "execution_count": 3,
   "id": "4caf40db-813a-4711-9118-20852cc6e8e5",
   "metadata": {},
   "outputs": [],
   "source": [
    "sample_stage.setpoint = epics_signal_rw(float,'BL99P-MO-STAGE-02:X')\n",
    "result  = asyncio.create_task(sample_stage.setpoint.connect())"
   ]
  },
  {
   "cell_type": "code",
   "execution_count": 8,
   "id": "97dda366-5958-4ebd-ae8e-100a62484c2a",
   "metadata": {},
   "outputs": [],
   "source": []
  },
  {
   "cell_type": "code",
   "execution_count": 14,
   "id": "5fb12f5e-9181-4cad-89a3-d8a9d483e19e",
   "metadata": {},
   "outputs": [
    {
     "ename": "TypeError",
     "evalue": "'coroutine' object is not iterable",
     "output_type": "error",
     "traceback": [
      "\u001b[0;31m---------------------------------------------------------------------------\u001b[0m",
      "\u001b[0;31mTypeError\u001b[0m                                 Traceback (most recent call last)",
      "Cell \u001b[0;32mIn[14], line 1\u001b[0m\n\u001b[0;32m----> 1\u001b[0m \u001b[43mRE\u001b[49m\u001b[43m(\u001b[49m\u001b[43msample_stage\u001b[49m\u001b[38;5;241;43m.\u001b[39;49m\u001b[43mreadback\u001b[49m\u001b[38;5;241;43m.\u001b[39;49m\u001b[43mread\u001b[49m\u001b[43m(\u001b[49m\u001b[43m)\u001b[49m\u001b[43m,\u001b[49m\u001b[43mbec\u001b[49m\u001b[43m)\u001b[49m\n",
      "File \u001b[0;32m/scratch/wvx67826/myenv/lib/python3.11/site-packages/bluesky/run_engine.py:895\u001b[0m, in \u001b[0;36mRunEngine.__call__\u001b[0;34m(self, *args, **metadata_kw)\u001b[0m\n\u001b[1;32m    892\u001b[0m \u001b[38;5;28mself\u001b[39m\u001b[38;5;241m.\u001b[39m_plan \u001b[38;5;241m=\u001b[39m plan  \u001b[38;5;66;03m# this ref is just used for metadata introspection\u001b[39;00m\n\u001b[1;32m    893\u001b[0m \u001b[38;5;28mself\u001b[39m\u001b[38;5;241m.\u001b[39m_metadata_per_call\u001b[38;5;241m.\u001b[39mupdate(metadata_kw)\n\u001b[0;32m--> 895\u001b[0m gen \u001b[38;5;241m=\u001b[39m \u001b[43mensure_generator\u001b[49m\u001b[43m(\u001b[49m\u001b[43mplan\u001b[49m\u001b[43m)\u001b[49m\n\u001b[1;32m    896\u001b[0m \u001b[38;5;28;01mfor\u001b[39;00m wrapper_func \u001b[38;5;129;01min\u001b[39;00m \u001b[38;5;28mself\u001b[39m\u001b[38;5;241m.\u001b[39mpreprocessors:\n\u001b[1;32m    897\u001b[0m     gen \u001b[38;5;241m=\u001b[39m wrapper_func(gen)\n",
      "File \u001b[0;32m/scratch/wvx67826/myenv/lib/python3.11/site-packages/bluesky/utils/__init__.py:138\u001b[0m, in \u001b[0;36mensure_generator\u001b[0;34m(plan)\u001b[0m\n\u001b[1;32m    136\u001b[0m \u001b[38;5;28;01mif\u001b[39;00m \u001b[38;5;28misinstance\u001b[39m(plan, Msg):\n\u001b[1;32m    137\u001b[0m     \u001b[38;5;28;01mreturn\u001b[39;00m single_gen(plan)\n\u001b[0;32m--> 138\u001b[0m gen \u001b[38;5;241m=\u001b[39m \u001b[38;5;28;43miter\u001b[39;49m\u001b[43m(\u001b[49m\u001b[43mplan\u001b[49m\u001b[43m)\u001b[49m  \u001b[38;5;66;03m# no-op on generators; needed for classes\u001b[39;00m\n\u001b[1;32m    139\u001b[0m \u001b[38;5;28;01mif\u001b[39;00m \u001b[38;5;129;01mnot\u001b[39;00m \u001b[38;5;28misinstance\u001b[39m(gen, PLAN_TYPES):\n\u001b[1;32m    140\u001b[0m     \u001b[38;5;66;03m# If plan does not support .send, we must wrap it in a generator.\u001b[39;00m\n\u001b[1;32m    141\u001b[0m     gen \u001b[38;5;241m=\u001b[39m (msg \u001b[38;5;28;01mfor\u001b[39;00m msg \u001b[38;5;129;01min\u001b[39;00m gen)\n",
      "\u001b[0;31mTypeError\u001b[0m: 'coroutine' object is not iterable"
     ]
    }
   ],
   "source": [
    "RE(sample_stage.readback.read(),bec)"
   ]
  },
  {
   "cell_type": "code",
   "execution_count": 4,
   "id": "cf7ddd53-a871-47e1-94ed-fd637c71175f",
   "metadata": {},
   "outputs": [],
   "source": [
    "result1 = asyncio.create_task(sample_stage.setpoint.get_value())"
   ]
  },
  {
   "cell_type": "code",
   "execution_count": 5,
   "id": "2fc303c4-7fca-4571-a538-b0d34df33523",
   "metadata": {},
   "outputs": [
    {
     "data": {
      "text/plain": [
       "<Task finished name='Task-21' coro=<SignalR.get_value() done, defined at /scratch/wvx67826/myenv/lib/python3.11/site-packages/ophyd_async/core/signal.py:28> result=-0.0017000000000000001>"
      ]
     },
     "execution_count": 5,
     "metadata": {},
     "output_type": "execute_result"
    }
   ],
   "source": [
    "result1"
   ]
  },
  {
   "cell_type": "code",
   "execution_count": null,
   "id": "c52da438-1c2d-4d51-85d9-47f5959dc328",
   "metadata": {},
   "outputs": [],
   "source": [
    "result  = asyncio.create_task(x.read())"
   ]
  },
  {
   "cell_type": "code",
   "execution_count": null,
   "id": "dafa871e-c10f-4935-b295-4df7548ff8f6",
   "metadata": {},
   "outputs": [],
   "source": [
    "result"
   ]
  },
  {
   "cell_type": "code",
   "execution_count": null,
   "id": "dec2d323-c26b-4254-b529-cd8dd3adf78d",
   "metadata": {},
   "outputs": [],
   "source": []
  }
 ],
 "metadata": {
  "kernelspec": {
   "display_name": "Python 3 (ipykernel)",
   "language": "python",
   "name": "python3"
  },
  "language_info": {
   "codemirror_mode": {
    "name": "ipython",
    "version": 3
   },
   "file_extension": ".py",
   "mimetype": "text/x-python",
   "name": "python",
   "nbconvert_exporter": "python",
   "pygments_lexer": "ipython3",
   "version": "3.11.3"
  }
 },
 "nbformat": 4,
 "nbformat_minor": 5
}
